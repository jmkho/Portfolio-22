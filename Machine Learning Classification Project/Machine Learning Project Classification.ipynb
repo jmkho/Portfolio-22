{
  "nbformat": 4,
  "nbformat_minor": 0,
  "metadata": {
    "colab": {
      "name": "terfinal project.ipynb",
      "provenance": [],
      "collapsed_sections": [],
      "toc_visible": true
    },
    "kernelspec": {
      "display_name": "Python 3",
      "name": "python3"
    },
    "language_info": {
      "name": "python"
    }
  },
  "cells": [
    {
      "cell_type": "code",
      "metadata": {
        "id": "E7lntcwL6hre"
      },
      "source": [
        "from pandas import read_csv\n",
        "from sklearn.model_selection import train_test_split\n",
        "from sklearn.preprocessing import LabelEncoder\n",
        "from sklearn.preprocessing import OrdinalEncoder\n",
        "import seaborn as sns\n",
        "import matplotlib.pyplot as plt\n",
        "import pandas as pd\n",
        "import numpy as np\n",
        "from sklearn.feature_selection import SelectKBest\n",
        "from sklearn.feature_selection import chi2"
      ],
      "execution_count": 1,
      "outputs": []
    },
    {
      "cell_type": "code",
      "metadata": {
        "colab": {
          "base_uri": "https://localhost:8080/"
        },
        "id": "LiGgY_MaBl0M",
        "outputId": "26f7385a-29e0-447e-c820-65a2a0628ac9"
      },
      "source": [
        "url = \"https://raw.githubusercontent.com/jcln94/machine_learning_UC/main/DATA_1_small_business_loan_approval.csv\"\n",
        "data = pd.read_csv(url)\n",
        "data.shape"
      ],
      "execution_count": 2,
      "outputs": [
        {
          "output_type": "execute_result",
          "data": {
            "text/plain": [
              "(2102, 35)"
            ]
          },
          "metadata": {},
          "execution_count": 2
        }
      ]
    },
    {
      "cell_type": "code",
      "metadata": {
        "colab": {
          "base_uri": "https://localhost:8080/",
          "height": 394
        },
        "id": "TGEhBDwVBoxk",
        "outputId": "6fda868e-acd2-433c-faea-b82aedac6f7e"
      },
      "source": [
        "data.head()"
      ],
      "execution_count": 3,
      "outputs": [
        {
          "output_type": "execute_result",
          "data": {
            "text/html": [
              "<div>\n",
              "<style scoped>\n",
              "    .dataframe tbody tr th:only-of-type {\n",
              "        vertical-align: middle;\n",
              "    }\n",
              "\n",
              "    .dataframe tbody tr th {\n",
              "        vertical-align: top;\n",
              "    }\n",
              "\n",
              "    .dataframe thead th {\n",
              "        text-align: right;\n",
              "    }\n",
              "</style>\n",
              "<table border=\"1\" class=\"dataframe\">\n",
              "  <thead>\n",
              "    <tr style=\"text-align: right;\">\n",
              "      <th></th>\n",
              "      <th>Selected</th>\n",
              "      <th>LoanNr_ChkDgt</th>\n",
              "      <th>Name</th>\n",
              "      <th>City</th>\n",
              "      <th>State</th>\n",
              "      <th>Zip</th>\n",
              "      <th>Bank</th>\n",
              "      <th>BankState</th>\n",
              "      <th>NAICS</th>\n",
              "      <th>ApprovalDate</th>\n",
              "      <th>ApprovalFY</th>\n",
              "      <th>Term</th>\n",
              "      <th>NoEmp</th>\n",
              "      <th>NewExist</th>\n",
              "      <th>CreateJob</th>\n",
              "      <th>RetainedJob</th>\n",
              "      <th>FranchiseCode</th>\n",
              "      <th>UrbanRural</th>\n",
              "      <th>RevLineCr</th>\n",
              "      <th>LowDoc</th>\n",
              "      <th>ChgOffDate</th>\n",
              "      <th>DisbursementDate</th>\n",
              "      <th>DisbursementGross</th>\n",
              "      <th>BalanceGross</th>\n",
              "      <th>MIS_Status</th>\n",
              "      <th>ChgOffPrinGr</th>\n",
              "      <th>GrAppv</th>\n",
              "      <th>SBA_Appv</th>\n",
              "      <th>New</th>\n",
              "      <th>RealEstate</th>\n",
              "      <th>Portion</th>\n",
              "      <th>Recession</th>\n",
              "      <th>daysterm</th>\n",
              "      <th>xx</th>\n",
              "      <th>Default</th>\n",
              "    </tr>\n",
              "  </thead>\n",
              "  <tbody>\n",
              "    <tr>\n",
              "      <th>0</th>\n",
              "      <td>0</td>\n",
              "      <td>1004285007</td>\n",
              "      <td>SIMPLEX OFFICE SOLUTIONS</td>\n",
              "      <td>ANAHEIM</td>\n",
              "      <td>CA</td>\n",
              "      <td>92801</td>\n",
              "      <td>CALIFORNIA BANK &amp; TRUST</td>\n",
              "      <td>CA</td>\n",
              "      <td>532420</td>\n",
              "      <td>15074</td>\n",
              "      <td>2001</td>\n",
              "      <td>36</td>\n",
              "      <td>1</td>\n",
              "      <td>1.0</td>\n",
              "      <td>0</td>\n",
              "      <td>0</td>\n",
              "      <td>1</td>\n",
              "      <td>0</td>\n",
              "      <td>Y</td>\n",
              "      <td>N</td>\n",
              "      <td>NaN</td>\n",
              "      <td>15095.0</td>\n",
              "      <td>32812</td>\n",
              "      <td>0</td>\n",
              "      <td>P I F</td>\n",
              "      <td>0</td>\n",
              "      <td>30000</td>\n",
              "      <td>15000</td>\n",
              "      <td>0</td>\n",
              "      <td>0</td>\n",
              "      <td>0.5</td>\n",
              "      <td>0</td>\n",
              "      <td>1080</td>\n",
              "      <td>16175.0</td>\n",
              "      <td>0</td>\n",
              "    </tr>\n",
              "    <tr>\n",
              "      <th>1</th>\n",
              "      <td>1</td>\n",
              "      <td>1004535010</td>\n",
              "      <td>DREAM HOME REALTY</td>\n",
              "      <td>TORRANCE</td>\n",
              "      <td>CA</td>\n",
              "      <td>90505</td>\n",
              "      <td>CALIFORNIA BANK &amp; TRUST</td>\n",
              "      <td>CA</td>\n",
              "      <td>531210</td>\n",
              "      <td>15130</td>\n",
              "      <td>2001</td>\n",
              "      <td>56</td>\n",
              "      <td>1</td>\n",
              "      <td>1.0</td>\n",
              "      <td>0</td>\n",
              "      <td>0</td>\n",
              "      <td>1</td>\n",
              "      <td>0</td>\n",
              "      <td>Y</td>\n",
              "      <td>N</td>\n",
              "      <td>NaN</td>\n",
              "      <td>15978.0</td>\n",
              "      <td>30000</td>\n",
              "      <td>0</td>\n",
              "      <td>P I F</td>\n",
              "      <td>0</td>\n",
              "      <td>30000</td>\n",
              "      <td>15000</td>\n",
              "      <td>0</td>\n",
              "      <td>0</td>\n",
              "      <td>0.5</td>\n",
              "      <td>1</td>\n",
              "      <td>1680</td>\n",
              "      <td>17658.0</td>\n",
              "      <td>0</td>\n",
              "    </tr>\n",
              "    <tr>\n",
              "      <th>2</th>\n",
              "      <td>0</td>\n",
              "      <td>1005005006</td>\n",
              "      <td>Winset, Inc. dba Bankers Hill</td>\n",
              "      <td>SAN DIEGO</td>\n",
              "      <td>CA</td>\n",
              "      <td>92103</td>\n",
              "      <td>CALIFORNIA BANK &amp; TRUST</td>\n",
              "      <td>CA</td>\n",
              "      <td>531210</td>\n",
              "      <td>15188</td>\n",
              "      <td>2001</td>\n",
              "      <td>36</td>\n",
              "      <td>10</td>\n",
              "      <td>1.0</td>\n",
              "      <td>0</td>\n",
              "      <td>0</td>\n",
              "      <td>1</td>\n",
              "      <td>0</td>\n",
              "      <td>Y</td>\n",
              "      <td>N</td>\n",
              "      <td>NaN</td>\n",
              "      <td>15218.0</td>\n",
              "      <td>30000</td>\n",
              "      <td>0</td>\n",
              "      <td>P I F</td>\n",
              "      <td>0</td>\n",
              "      <td>30000</td>\n",
              "      <td>15000</td>\n",
              "      <td>0</td>\n",
              "      <td>0</td>\n",
              "      <td>0.5</td>\n",
              "      <td>0</td>\n",
              "      <td>1080</td>\n",
              "      <td>16298.0</td>\n",
              "      <td>0</td>\n",
              "    </tr>\n",
              "    <tr>\n",
              "      <th>3</th>\n",
              "      <td>1</td>\n",
              "      <td>1005535001</td>\n",
              "      <td>Shiva Management</td>\n",
              "      <td>SAN DIEGO</td>\n",
              "      <td>CA</td>\n",
              "      <td>92108</td>\n",
              "      <td>CALIFORNIA BANK &amp; TRUST</td>\n",
              "      <td>CA</td>\n",
              "      <td>531312</td>\n",
              "      <td>15719</td>\n",
              "      <td>2003</td>\n",
              "      <td>36</td>\n",
              "      <td>6</td>\n",
              "      <td>1.0</td>\n",
              "      <td>0</td>\n",
              "      <td>0</td>\n",
              "      <td>1</td>\n",
              "      <td>0</td>\n",
              "      <td>Y</td>\n",
              "      <td>N</td>\n",
              "      <td>NaN</td>\n",
              "      <td>15736.0</td>\n",
              "      <td>50000</td>\n",
              "      <td>0</td>\n",
              "      <td>P I F</td>\n",
              "      <td>0</td>\n",
              "      <td>50000</td>\n",
              "      <td>25000</td>\n",
              "      <td>0</td>\n",
              "      <td>0</td>\n",
              "      <td>0.5</td>\n",
              "      <td>0</td>\n",
              "      <td>1080</td>\n",
              "      <td>16816.0</td>\n",
              "      <td>0</td>\n",
              "    </tr>\n",
              "    <tr>\n",
              "      <th>4</th>\n",
              "      <td>1</td>\n",
              "      <td>1005996006</td>\n",
              "      <td>GOLD CROWN HOME LOANS, INC</td>\n",
              "      <td>LOS ANGELES</td>\n",
              "      <td>CA</td>\n",
              "      <td>91345</td>\n",
              "      <td>SBA - EDF ENFORCEMENT ACTION</td>\n",
              "      <td>CO</td>\n",
              "      <td>531390</td>\n",
              "      <td>16840</td>\n",
              "      <td>2006</td>\n",
              "      <td>240</td>\n",
              "      <td>65</td>\n",
              "      <td>1.0</td>\n",
              "      <td>3</td>\n",
              "      <td>65</td>\n",
              "      <td>1</td>\n",
              "      <td>1</td>\n",
              "      <td>0</td>\n",
              "      <td>N</td>\n",
              "      <td>NaN</td>\n",
              "      <td>16903.0</td>\n",
              "      <td>343000</td>\n",
              "      <td>0</td>\n",
              "      <td>P I F</td>\n",
              "      <td>0</td>\n",
              "      <td>343000</td>\n",
              "      <td>343000</td>\n",
              "      <td>0</td>\n",
              "      <td>1</td>\n",
              "      <td>1.0</td>\n",
              "      <td>0</td>\n",
              "      <td>7200</td>\n",
              "      <td>24103.0</td>\n",
              "      <td>0</td>\n",
              "    </tr>\n",
              "  </tbody>\n",
              "</table>\n",
              "</div>"
            ],
            "text/plain": [
              "   Selected  LoanNr_ChkDgt  ...       xx Default\n",
              "0         0     1004285007  ...  16175.0       0\n",
              "1         1     1004535010  ...  17658.0       0\n",
              "2         0     1005005006  ...  16298.0       0\n",
              "3         1     1005535001  ...  16816.0       0\n",
              "4         1     1005996006  ...  24103.0       0\n",
              "\n",
              "[5 rows x 35 columns]"
            ]
          },
          "metadata": {},
          "execution_count": 3
        }
      ]
    },
    {
      "cell_type": "code",
      "metadata": {
        "id": "pT-013LMBuva"
      },
      "source": [
        "def cekna(df):\n",
        "    col = []\n",
        "    d_type = []\n",
        "    na = []\n",
        "    na_value = []\n",
        "    \n",
        "    \n",
        "    for i in df.columns:\n",
        "        col.append(i)\n",
        "        d_type.append(df[i].dtypes)\n",
        "        na.append(df[i].isna().any())\n",
        "        na_value.append((df[i].isnull().sum() / len(df[i])) * 100)\n",
        "   \n",
        "    return pd.DataFrame({'Column': col, 'd_type': d_type, 'Is NA': na, 'NA_value':na_value})\n",
        "    "
      ],
      "execution_count": 4,
      "outputs": []
    },
    {
      "cell_type": "code",
      "metadata": {
        "colab": {
          "base_uri": "https://localhost:8080/",
          "height": 1000
        },
        "id": "8M9yyGpzC9ZT",
        "outputId": "b9bf14f7-6978-414f-b051-6b3f41e79451"
      },
      "source": [
        "cekna(data)"
      ],
      "execution_count": 5,
      "outputs": [
        {
          "output_type": "execute_result",
          "data": {
            "text/html": [
              "<div>\n",
              "<style scoped>\n",
              "    .dataframe tbody tr th:only-of-type {\n",
              "        vertical-align: middle;\n",
              "    }\n",
              "\n",
              "    .dataframe tbody tr th {\n",
              "        vertical-align: top;\n",
              "    }\n",
              "\n",
              "    .dataframe thead th {\n",
              "        text-align: right;\n",
              "    }\n",
              "</style>\n",
              "<table border=\"1\" class=\"dataframe\">\n",
              "  <thead>\n",
              "    <tr style=\"text-align: right;\">\n",
              "      <th></th>\n",
              "      <th>Column</th>\n",
              "      <th>d_type</th>\n",
              "      <th>Is NA</th>\n",
              "      <th>NA_value</th>\n",
              "    </tr>\n",
              "  </thead>\n",
              "  <tbody>\n",
              "    <tr>\n",
              "      <th>0</th>\n",
              "      <td>Selected</td>\n",
              "      <td>int64</td>\n",
              "      <td>False</td>\n",
              "      <td>0.000000</td>\n",
              "    </tr>\n",
              "    <tr>\n",
              "      <th>1</th>\n",
              "      <td>LoanNr_ChkDgt</td>\n",
              "      <td>int64</td>\n",
              "      <td>False</td>\n",
              "      <td>0.000000</td>\n",
              "    </tr>\n",
              "    <tr>\n",
              "      <th>2</th>\n",
              "      <td>Name</td>\n",
              "      <td>object</td>\n",
              "      <td>False</td>\n",
              "      <td>0.000000</td>\n",
              "    </tr>\n",
              "    <tr>\n",
              "      <th>3</th>\n",
              "      <td>City</td>\n",
              "      <td>object</td>\n",
              "      <td>False</td>\n",
              "      <td>0.000000</td>\n",
              "    </tr>\n",
              "    <tr>\n",
              "      <th>4</th>\n",
              "      <td>State</td>\n",
              "      <td>object</td>\n",
              "      <td>False</td>\n",
              "      <td>0.000000</td>\n",
              "    </tr>\n",
              "    <tr>\n",
              "      <th>5</th>\n",
              "      <td>Zip</td>\n",
              "      <td>int64</td>\n",
              "      <td>False</td>\n",
              "      <td>0.000000</td>\n",
              "    </tr>\n",
              "    <tr>\n",
              "      <th>6</th>\n",
              "      <td>Bank</td>\n",
              "      <td>object</td>\n",
              "      <td>True</td>\n",
              "      <td>0.142721</td>\n",
              "    </tr>\n",
              "    <tr>\n",
              "      <th>7</th>\n",
              "      <td>BankState</td>\n",
              "      <td>object</td>\n",
              "      <td>True</td>\n",
              "      <td>0.142721</td>\n",
              "    </tr>\n",
              "    <tr>\n",
              "      <th>8</th>\n",
              "      <td>NAICS</td>\n",
              "      <td>int64</td>\n",
              "      <td>False</td>\n",
              "      <td>0.000000</td>\n",
              "    </tr>\n",
              "    <tr>\n",
              "      <th>9</th>\n",
              "      <td>ApprovalDate</td>\n",
              "      <td>int64</td>\n",
              "      <td>False</td>\n",
              "      <td>0.000000</td>\n",
              "    </tr>\n",
              "    <tr>\n",
              "      <th>10</th>\n",
              "      <td>ApprovalFY</td>\n",
              "      <td>int64</td>\n",
              "      <td>False</td>\n",
              "      <td>0.000000</td>\n",
              "    </tr>\n",
              "    <tr>\n",
              "      <th>11</th>\n",
              "      <td>Term</td>\n",
              "      <td>int64</td>\n",
              "      <td>False</td>\n",
              "      <td>0.000000</td>\n",
              "    </tr>\n",
              "    <tr>\n",
              "      <th>12</th>\n",
              "      <td>NoEmp</td>\n",
              "      <td>int64</td>\n",
              "      <td>False</td>\n",
              "      <td>0.000000</td>\n",
              "    </tr>\n",
              "    <tr>\n",
              "      <th>13</th>\n",
              "      <td>NewExist</td>\n",
              "      <td>float64</td>\n",
              "      <td>True</td>\n",
              "      <td>0.047574</td>\n",
              "    </tr>\n",
              "    <tr>\n",
              "      <th>14</th>\n",
              "      <td>CreateJob</td>\n",
              "      <td>int64</td>\n",
              "      <td>False</td>\n",
              "      <td>0.000000</td>\n",
              "    </tr>\n",
              "    <tr>\n",
              "      <th>15</th>\n",
              "      <td>RetainedJob</td>\n",
              "      <td>int64</td>\n",
              "      <td>False</td>\n",
              "      <td>0.000000</td>\n",
              "    </tr>\n",
              "    <tr>\n",
              "      <th>16</th>\n",
              "      <td>FranchiseCode</td>\n",
              "      <td>int64</td>\n",
              "      <td>False</td>\n",
              "      <td>0.000000</td>\n",
              "    </tr>\n",
              "    <tr>\n",
              "      <th>17</th>\n",
              "      <td>UrbanRural</td>\n",
              "      <td>int64</td>\n",
              "      <td>False</td>\n",
              "      <td>0.000000</td>\n",
              "    </tr>\n",
              "    <tr>\n",
              "      <th>18</th>\n",
              "      <td>RevLineCr</td>\n",
              "      <td>object</td>\n",
              "      <td>True</td>\n",
              "      <td>0.095147</td>\n",
              "    </tr>\n",
              "    <tr>\n",
              "      <th>19</th>\n",
              "      <td>LowDoc</td>\n",
              "      <td>object</td>\n",
              "      <td>True</td>\n",
              "      <td>0.142721</td>\n",
              "    </tr>\n",
              "    <tr>\n",
              "      <th>20</th>\n",
              "      <td>ChgOffDate</td>\n",
              "      <td>float64</td>\n",
              "      <td>True</td>\n",
              "      <td>66.841104</td>\n",
              "    </tr>\n",
              "    <tr>\n",
              "      <th>21</th>\n",
              "      <td>DisbursementDate</td>\n",
              "      <td>float64</td>\n",
              "      <td>True</td>\n",
              "      <td>0.142721</td>\n",
              "    </tr>\n",
              "    <tr>\n",
              "      <th>22</th>\n",
              "      <td>DisbursementGross</td>\n",
              "      <td>int64</td>\n",
              "      <td>False</td>\n",
              "      <td>0.000000</td>\n",
              "    </tr>\n",
              "    <tr>\n",
              "      <th>23</th>\n",
              "      <td>BalanceGross</td>\n",
              "      <td>int64</td>\n",
              "      <td>False</td>\n",
              "      <td>0.000000</td>\n",
              "    </tr>\n",
              "    <tr>\n",
              "      <th>24</th>\n",
              "      <td>MIS_Status</td>\n",
              "      <td>object</td>\n",
              "      <td>False</td>\n",
              "      <td>0.000000</td>\n",
              "    </tr>\n",
              "    <tr>\n",
              "      <th>25</th>\n",
              "      <td>ChgOffPrinGr</td>\n",
              "      <td>int64</td>\n",
              "      <td>False</td>\n",
              "      <td>0.000000</td>\n",
              "    </tr>\n",
              "    <tr>\n",
              "      <th>26</th>\n",
              "      <td>GrAppv</td>\n",
              "      <td>int64</td>\n",
              "      <td>False</td>\n",
              "      <td>0.000000</td>\n",
              "    </tr>\n",
              "    <tr>\n",
              "      <th>27</th>\n",
              "      <td>SBA_Appv</td>\n",
              "      <td>int64</td>\n",
              "      <td>False</td>\n",
              "      <td>0.000000</td>\n",
              "    </tr>\n",
              "    <tr>\n",
              "      <th>28</th>\n",
              "      <td>New</td>\n",
              "      <td>int64</td>\n",
              "      <td>False</td>\n",
              "      <td>0.000000</td>\n",
              "    </tr>\n",
              "    <tr>\n",
              "      <th>29</th>\n",
              "      <td>RealEstate</td>\n",
              "      <td>int64</td>\n",
              "      <td>False</td>\n",
              "      <td>0.000000</td>\n",
              "    </tr>\n",
              "    <tr>\n",
              "      <th>30</th>\n",
              "      <td>Portion</td>\n",
              "      <td>float64</td>\n",
              "      <td>False</td>\n",
              "      <td>0.000000</td>\n",
              "    </tr>\n",
              "    <tr>\n",
              "      <th>31</th>\n",
              "      <td>Recession</td>\n",
              "      <td>int64</td>\n",
              "      <td>False</td>\n",
              "      <td>0.000000</td>\n",
              "    </tr>\n",
              "    <tr>\n",
              "      <th>32</th>\n",
              "      <td>daysterm</td>\n",
              "      <td>int64</td>\n",
              "      <td>False</td>\n",
              "      <td>0.000000</td>\n",
              "    </tr>\n",
              "    <tr>\n",
              "      <th>33</th>\n",
              "      <td>xx</td>\n",
              "      <td>float64</td>\n",
              "      <td>True</td>\n",
              "      <td>0.142721</td>\n",
              "    </tr>\n",
              "    <tr>\n",
              "      <th>34</th>\n",
              "      <td>Default</td>\n",
              "      <td>int64</td>\n",
              "      <td>False</td>\n",
              "      <td>0.000000</td>\n",
              "    </tr>\n",
              "  </tbody>\n",
              "</table>\n",
              "</div>"
            ],
            "text/plain": [
              "               Column   d_type  Is NA   NA_value\n",
              "0            Selected    int64  False   0.000000\n",
              "1       LoanNr_ChkDgt    int64  False   0.000000\n",
              "2                Name   object  False   0.000000\n",
              "3                City   object  False   0.000000\n",
              "4               State   object  False   0.000000\n",
              "5                 Zip    int64  False   0.000000\n",
              "6                Bank   object   True   0.142721\n",
              "7           BankState   object   True   0.142721\n",
              "8               NAICS    int64  False   0.000000\n",
              "9        ApprovalDate    int64  False   0.000000\n",
              "10         ApprovalFY    int64  False   0.000000\n",
              "11               Term    int64  False   0.000000\n",
              "12              NoEmp    int64  False   0.000000\n",
              "13           NewExist  float64   True   0.047574\n",
              "14          CreateJob    int64  False   0.000000\n",
              "15        RetainedJob    int64  False   0.000000\n",
              "16      FranchiseCode    int64  False   0.000000\n",
              "17         UrbanRural    int64  False   0.000000\n",
              "18          RevLineCr   object   True   0.095147\n",
              "19             LowDoc   object   True   0.142721\n",
              "20         ChgOffDate  float64   True  66.841104\n",
              "21   DisbursementDate  float64   True   0.142721\n",
              "22  DisbursementGross    int64  False   0.000000\n",
              "23       BalanceGross    int64  False   0.000000\n",
              "24         MIS_Status   object  False   0.000000\n",
              "25       ChgOffPrinGr    int64  False   0.000000\n",
              "26             GrAppv    int64  False   0.000000\n",
              "27           SBA_Appv    int64  False   0.000000\n",
              "28                New    int64  False   0.000000\n",
              "29         RealEstate    int64  False   0.000000\n",
              "30            Portion  float64  False   0.000000\n",
              "31          Recession    int64  False   0.000000\n",
              "32           daysterm    int64  False   0.000000\n",
              "33                 xx  float64   True   0.142721\n",
              "34            Default    int64  False   0.000000"
            ]
          },
          "metadata": {},
          "execution_count": 5
        }
      ]
    },
    {
      "cell_type": "code",
      "metadata": {
        "colab": {
          "base_uri": "https://localhost:8080/",
          "height": 366
        },
        "id": "xfeGuTIxGsl1",
        "outputId": "f1f864a2-be4b-4826-e42d-a263b0c2c545"
      },
      "source": [
        "#dari data numerik yang memiliki NA , kita bisa membuat dataframe baru untuk mlihat histogramnya\n",
        "#yang berguna  untuk menentukan metoda apa yang akan digunakan untuk mengisi NA\n",
        "datana = data[['NewExist','ChgOffDate','DisbursementDate','xx']]\n",
        "datana.hist()"
      ],
      "execution_count": 6,
      "outputs": [
        {
          "output_type": "execute_result",
          "data": {
            "text/plain": [
              "array([[<matplotlib.axes._subplots.AxesSubplot object at 0x7f76e8300d10>,\n",
              "        <matplotlib.axes._subplots.AxesSubplot object at 0x7f76e8264350>],\n",
              "       [<matplotlib.axes._subplots.AxesSubplot object at 0x7f76e829c9d0>,\n",
              "        <matplotlib.axes._subplots.AxesSubplot object at 0x7f76e8248bd0>]],\n",
              "      dtype=object)"
            ]
          },
          "metadata": {},
          "execution_count": 6
        },
        {
          "output_type": "display_data",
          "data": {
            "image/png": "[encoded data removed]",
            "text/plain": [
              "<Figure size 432x288 with 4 Axes>"
            ]
          },
          "metadata": {
            "needs_background": "light"
          }
        }
      ]
    },
    {
      "cell_type": "code",
      "metadata": {
        "colab": {
          "base_uri": "https://localhost:8080/",
          "height": 317
        },
        "id": "r4CEuZ4CZYH-",
        "outputId": "01c68370-252f-4a5c-abfe-2225d6c0c686"
      },
      "source": [
        "data.describe()\n",
        "#Untuk melihat deskripsi pada setiap kolom "
      ],
      "execution_count": 7,
      "outputs": [
        {
          "output_type": "execute_result",
          "data": {
            "text/html": [
              "<div>\n",
              "<style scoped>\n",
              "    .dataframe tbody tr th:only-of-type {\n",
              "        vertical-align: middle;\n",
              "    }\n",
              "\n",
              "    .dataframe tbody tr th {\n",
              "        vertical-align: top;\n",
              "    }\n",
              "\n",
              "    .dataframe thead th {\n",
              "        text-align: right;\n",
              "    }\n",
              "</style>\n",
              "<table border=\"1\" class=\"dataframe\">\n",
              "  <thead>\n",
              "    <tr style=\"text-align: right;\">\n",
              "      <th></th>\n",
              "      <th>Selected</th>\n",
              "      <th>LoanNr_ChkDgt</th>\n",
              "      <th>Zip</th>\n",
              "      <th>NAICS</th>\n",
              "      <th>ApprovalDate</th>\n",
              "      <th>ApprovalFY</th>\n",
              "      <th>Term</th>\n",
              "      <th>NoEmp</th>\n",
              "      <th>NewExist</th>\n",
              "      <th>CreateJob</th>\n",
              "      <th>RetainedJob</th>\n",
              "      <th>FranchiseCode</th>\n",
              "      <th>UrbanRural</th>\n",
              "      <th>ChgOffDate</th>\n",
              "      <th>DisbursementDate</th>\n",
              "      <th>DisbursementGross</th>\n",
              "      <th>BalanceGross</th>\n",
              "      <th>ChgOffPrinGr</th>\n",
              "      <th>GrAppv</th>\n",
              "      <th>SBA_Appv</th>\n",
              "      <th>New</th>\n",
              "      <th>RealEstate</th>\n",
              "      <th>Portion</th>\n",
              "      <th>Recession</th>\n",
              "      <th>daysterm</th>\n",
              "      <th>xx</th>\n",
              "      <th>Default</th>\n",
              "    </tr>\n",
              "  </thead>\n",
              "  <tbody>\n",
              "    <tr>\n",
              "      <th>count</th>\n",
              "      <td>2102.000000</td>\n",
              "      <td>2.102000e+03</td>\n",
              "      <td>2102.000000</td>\n",
              "      <td>2102.000000</td>\n",
              "      <td>2102.000000</td>\n",
              "      <td>2102.000000</td>\n",
              "      <td>2102.000000</td>\n",
              "      <td>2102.000000</td>\n",
              "      <td>2101.000000</td>\n",
              "      <td>2102.000000</td>\n",
              "      <td>2102.000000</td>\n",
              "      <td>2102.000000</td>\n",
              "      <td>2102.000000</td>\n",
              "      <td>697.000000</td>\n",
              "      <td>2099.000000</td>\n",
              "      <td>2.102000e+03</td>\n",
              "      <td>2102.0</td>\n",
              "      <td>2.102000e+03</td>\n",
              "      <td>2.102000e+03</td>\n",
              "      <td>2.102000e+03</td>\n",
              "      <td>2102.000000</td>\n",
              "      <td>2102.000000</td>\n",
              "      <td>2102.000000</td>\n",
              "      <td>2102.000000</td>\n",
              "      <td>2102.000000</td>\n",
              "      <td>2099.000000</td>\n",
              "      <td>2102.000000</td>\n",
              "    </tr>\n",
              "    <tr>\n",
              "      <th>mean</th>\n",
              "      <td>0.500000</td>\n",
              "      <td>4.469172e+09</td>\n",
              "      <td>92698.612274</td>\n",
              "      <td>531630.902950</td>\n",
              "      <td>16179.587060</td>\n",
              "      <td>2004.035680</td>\n",
              "      <td>126.980495</td>\n",
              "      <td>10.150809</td>\n",
              "      <td>1.153736</td>\n",
              "      <td>2.549952</td>\n",
              "      <td>5.803996</td>\n",
              "      <td>1961.758325</td>\n",
              "      <td>0.949572</td>\n",
              "      <td>18224.817791</td>\n",
              "      <td>16264.266317</td>\n",
              "      <td>2.427372e+05</td>\n",
              "      <td>0.0</td>\n",
              "      <td>2.002908e+04</td>\n",
              "      <td>2.330641e+05</td>\n",
              "      <td>1.891759e+05</td>\n",
              "      <td>0.154139</td>\n",
              "      <td>0.274500</td>\n",
              "      <td>0.671055</td>\n",
              "      <td>0.068506</td>\n",
              "      <td>3809.414843</td>\n",
              "      <td>20076.896141</td>\n",
              "      <td>0.326356</td>\n",
              "    </tr>\n",
              "    <tr>\n",
              "      <th>std</th>\n",
              "      <td>0.500119</td>\n",
              "      <td>2.530069e+09</td>\n",
              "      <td>1878.208435</td>\n",
              "      <td>521.836986</td>\n",
              "      <td>1454.931276</td>\n",
              "      <td>4.006321</td>\n",
              "      <td>93.798944</td>\n",
              "      <td>34.402420</td>\n",
              "      <td>0.362099</td>\n",
              "      <td>8.010175</td>\n",
              "      <td>18.977996</td>\n",
              "      <td>11239.816973</td>\n",
              "      <td>0.410856</td>\n",
              "      <td>732.806567</td>\n",
              "      <td>1450.793956</td>\n",
              "      <td>3.382861e+05</td>\n",
              "      <td>0.0</td>\n",
              "      <td>7.543229e+04</td>\n",
              "      <td>3.436310e+05</td>\n",
              "      <td>2.989268e+05</td>\n",
              "      <td>0.361168</td>\n",
              "      <td>0.446368</td>\n",
              "      <td>0.186519</td>\n",
              "      <td>0.252673</td>\n",
              "      <td>2813.968318</td>\n",
              "      <td>2854.510377</td>\n",
              "      <td>0.468991</td>\n",
              "    </tr>\n",
              "    <tr>\n",
              "      <th>min</th>\n",
              "      <td>0.000000</td>\n",
              "      <td>1.004285e+09</td>\n",
              "      <td>65757.000000</td>\n",
              "      <td>531110.000000</td>\n",
              "      <td>10554.000000</td>\n",
              "      <td>1989.000000</td>\n",
              "      <td>0.000000</td>\n",
              "      <td>0.000000</td>\n",
              "      <td>0.000000</td>\n",
              "      <td>0.000000</td>\n",
              "      <td>0.000000</td>\n",
              "      <td>0.000000</td>\n",
              "      <td>0.000000</td>\n",
              "      <td>13752.000000</td>\n",
              "      <td>10623.000000</td>\n",
              "      <td>4.835000e+03</td>\n",
              "      <td>0.0</td>\n",
              "      <td>0.000000e+00</td>\n",
              "      <td>4.500000e+03</td>\n",
              "      <td>2.250000e+03</td>\n",
              "      <td>0.000000</td>\n",
              "      <td>0.000000</td>\n",
              "      <td>0.296770</td>\n",
              "      <td>0.000000</td>\n",
              "      <td>0.000000</td>\n",
              "      <td>11524.000000</td>\n",
              "      <td>0.000000</td>\n",
              "    </tr>\n",
              "    <tr>\n",
              "      <th>25%</th>\n",
              "      <td>0.000000</td>\n",
              "      <td>2.392978e+09</td>\n",
              "      <td>91402.000000</td>\n",
              "      <td>531210.000000</td>\n",
              "      <td>15695.750000</td>\n",
              "      <td>2003.000000</td>\n",
              "      <td>60.000000</td>\n",
              "      <td>2.000000</td>\n",
              "      <td>1.000000</td>\n",
              "      <td>0.000000</td>\n",
              "      <td>1.000000</td>\n",
              "      <td>0.000000</td>\n",
              "      <td>1.000000</td>\n",
              "      <td>17860.000000</td>\n",
              "      <td>15795.000000</td>\n",
              "      <td>4.000000e+04</td>\n",
              "      <td>0.0</td>\n",
              "      <td>0.000000e+00</td>\n",
              "      <td>3.000000e+04</td>\n",
              "      <td>1.500000e+04</td>\n",
              "      <td>0.000000</td>\n",
              "      <td>0.000000</td>\n",
              "      <td>0.500000</td>\n",
              "      <td>0.000000</td>\n",
              "      <td>1800.000000</td>\n",
              "      <td>18316.500000</td>\n",
              "      <td>0.000000</td>\n",
              "    </tr>\n",
              "    <tr>\n",
              "      <th>50%</th>\n",
              "      <td>0.500000</td>\n",
              "      <td>3.621730e+09</td>\n",
              "      <td>92559.500000</td>\n",
              "      <td>531312.000000</td>\n",
              "      <td>16556.000000</td>\n",
              "      <td>2005.000000</td>\n",
              "      <td>84.000000</td>\n",
              "      <td>3.000000</td>\n",
              "      <td>1.000000</td>\n",
              "      <td>0.000000</td>\n",
              "      <td>2.000000</td>\n",
              "      <td>1.000000</td>\n",
              "      <td>1.000000</td>\n",
              "      <td>18302.000000</td>\n",
              "      <td>16648.000000</td>\n",
              "      <td>1.000000e+05</td>\n",
              "      <td>0.0</td>\n",
              "      <td>0.000000e+00</td>\n",
              "      <td>6.100000e+04</td>\n",
              "      <td>4.168000e+04</td>\n",
              "      <td>0.000000</td>\n",
              "      <td>0.000000</td>\n",
              "      <td>0.500000</td>\n",
              "      <td>0.000000</td>\n",
              "      <td>2520.000000</td>\n",
              "      <td>19270.000000</td>\n",
              "      <td>0.000000</td>\n",
              "    </tr>\n",
              "    <tr>\n",
              "      <th>75%</th>\n",
              "      <td>1.000000</td>\n",
              "      <td>6.551607e+09</td>\n",
              "      <td>94127.750000</td>\n",
              "      <td>532230.000000</td>\n",
              "      <td>17149.750000</td>\n",
              "      <td>2007.000000</td>\n",
              "      <td>240.000000</td>\n",
              "      <td>8.000000</td>\n",
              "      <td>1.000000</td>\n",
              "      <td>2.000000</td>\n",
              "      <td>5.000000</td>\n",
              "      <td>1.000000</td>\n",
              "      <td>1.000000</td>\n",
              "      <td>18548.000000</td>\n",
              "      <td>17225.000000</td>\n",
              "      <td>3.000000e+05</td>\n",
              "      <td>0.0</td>\n",
              "      <td>1.507350e+04</td>\n",
              "      <td>3.000000e+05</td>\n",
              "      <td>2.397562e+05</td>\n",
              "      <td>0.000000</td>\n",
              "      <td>1.000000</td>\n",
              "      <td>0.850000</td>\n",
              "      <td>0.000000</td>\n",
              "      <td>7200.000000</td>\n",
              "      <td>22335.000000</td>\n",
              "      <td>1.000000</td>\n",
              "    </tr>\n",
              "    <tr>\n",
              "      <th>max</th>\n",
              "      <td>1.000000</td>\n",
              "      <td>9.958873e+09</td>\n",
              "      <td>96161.000000</td>\n",
              "      <td>533110.000000</td>\n",
              "      <td>18911.000000</td>\n",
              "      <td>2012.000000</td>\n",
              "      <td>306.000000</td>\n",
              "      <td>650.000000</td>\n",
              "      <td>2.000000</td>\n",
              "      <td>130.000000</td>\n",
              "      <td>535.000000</td>\n",
              "      <td>89658.000000</td>\n",
              "      <td>2.000000</td>\n",
              "      <td>19936.000000</td>\n",
              "      <td>18609.000000</td>\n",
              "      <td>2.315000e+06</td>\n",
              "      <td>0.0</td>\n",
              "      <td>1.509550e+06</td>\n",
              "      <td>2.350000e+06</td>\n",
              "      <td>2.115000e+06</td>\n",
              "      <td>1.000000</td>\n",
              "      <td>1.000000</td>\n",
              "      <td>1.000000</td>\n",
              "      <td>1.000000</td>\n",
              "      <td>9180.000000</td>\n",
              "      <td>27598.000000</td>\n",
              "      <td>1.000000</td>\n",
              "    </tr>\n",
              "  </tbody>\n",
              "</table>\n",
              "</div>"
            ],
            "text/plain": [
              "          Selected  LoanNr_ChkDgt  ...            xx      Default\n",
              "count  2102.000000   2.102000e+03  ...   2099.000000  2102.000000\n",
              "mean      0.500000   4.469172e+09  ...  20076.896141     0.326356\n",
              "std       0.500119   2.530069e+09  ...   2854.510377     0.468991\n",
              "min       0.000000   1.004285e+09  ...  11524.000000     0.000000\n",
              "25%       0.000000   2.392978e+09  ...  18316.500000     0.000000\n",
              "50%       0.500000   3.621730e+09  ...  19270.000000     0.000000\n",
              "75%       1.000000   6.551607e+09  ...  22335.000000     1.000000\n",
              "max       1.000000   9.958873e+09  ...  27598.000000     1.000000\n",
              "\n",
              "[8 rows x 27 columns]"
            ]
          },
          "metadata": {},
          "execution_count": 7
        }
      ]
    },
    {
      "cell_type": "code",
      "metadata": {
        "colab": {
          "base_uri": "https://localhost:8080/",
          "height": 282
        },
        "id": "8nCNrsPRbIHq",
        "outputId": "df0688b7-5899-44aa-e0c9-a4cc6e9ce582"
      },
      "source": [
        "sns.boxplot(data=datana, orient=\"h\", palette=\"Set2\")"
      ],
      "execution_count": 8,
      "outputs": [
        {
          "output_type": "execute_result",
          "data": {
            "text/plain": [
              "<matplotlib.axes._subplots.AxesSubplot at 0x7f76e8150310>"
            ]
          },
          "metadata": {},
          "execution_count": 8
        },
        {
          "output_type": "display_data",
          "data": {
            "image/png": "[encoded data removed]",
            "text/plain": [
              "<Figure size 432x288 with 1 Axes>"
            ]
          },
          "metadata": {
            "needs_background": "light"
          }
        }
      ]
    },
    {
      "cell_type": "markdown",
      "metadata": {
        "id": "8TxX2f1JDSHv"
      },
      "source": [
        "# Data Preparation"
      ]
    },
    {
      "cell_type": "code",
      "metadata": {
        "id": "YnWd8jmG2Myu"
      },
      "source": [
        "def report(df):\n",
        "    col = []\n",
        "    d_type = []\n",
        "    uniques = []\n",
        "    n_uniques = []\n",
        "    \n",
        "    for i in df.columns:\n",
        "        col.append(i)\n",
        "        d_type.append(df[i].dtypes)\n",
        "        uniques.append(df[i].unique()[:5])\n",
        "        n_uniques.append(df[i].nunique())\n",
        "    \n",
        "    return pd.DataFrame({'Column': col, 'd_type': d_type, 'unique_sample': uniques, 'n_uniques': n_uniques})"
      ],
      "execution_count": 9,
      "outputs": []
    },
    {
      "cell_type": "code",
      "metadata": {
        "colab": {
          "base_uri": "https://localhost:8080/",
          "height": 1000
        },
        "id": "-EGHNqXb2bW_",
        "outputId": "1c5eb8d4-6dae-420e-e06b-0bbab4036ec5"
      },
      "source": [
        "report(data)"
      ],
      "execution_count": 10,
      "outputs": [
        {
          "output_type": "execute_result",
          "data": {
            "text/html": [
              "<div>\n",
              "<style scoped>\n",
              "    .dataframe tbody tr th:only-of-type {\n",
              "        vertical-align: middle;\n",
              "    }\n",
              "\n",
              "    .dataframe tbody tr th {\n",
              "        vertical-align: top;\n",
              "    }\n",
              "\n",
              "    .dataframe thead th {\n",
              "        text-align: right;\n",
              "    }\n",
              "</style>\n",
              "<table border=\"1\" class=\"dataframe\">\n",
              "  <thead>\n",
              "    <tr style=\"text-align: right;\">\n",
              "      <th></th>\n",
              "      <th>Column</th>\n",
              "      <th>d_type</th>\n",
              "      <th>unique_sample</th>\n",
              "      <th>n_uniques</th>\n",
              "    </tr>\n",
              "  </thead>\n",
              "  <tbody>\n",
              "    <tr>\n",
              "      <th>0</th>\n",
              "      <td>Selected</td>\n",
              "      <td>int64</td>\n",
              "      <td>[0, 1]</td>\n",
              "      <td>2</td>\n",
              "    </tr>\n",
              "    <tr>\n",
              "      <th>1</th>\n",
              "      <td>LoanNr_ChkDgt</td>\n",
              "      <td>int64</td>\n",
              "      <td>[1004285007, 1004535010, 1005005006, 100553500...</td>\n",
              "      <td>2102</td>\n",
              "    </tr>\n",
              "    <tr>\n",
              "      <th>2</th>\n",
              "      <td>Name</td>\n",
              "      <td>object</td>\n",
              "      <td>[SIMPLEX OFFICE SOLUTIONS, DREAM HOME REALTY, ...</td>\n",
              "      <td>2005</td>\n",
              "    </tr>\n",
              "    <tr>\n",
              "      <th>3</th>\n",
              "      <td>City</td>\n",
              "      <td>object</td>\n",
              "      <td>[ANAHEIM, TORRANCE, SAN DIEGO, LOS ANGELES, SA...</td>\n",
              "      <td>519</td>\n",
              "    </tr>\n",
              "    <tr>\n",
              "      <th>4</th>\n",
              "      <td>State</td>\n",
              "      <td>object</td>\n",
              "      <td>[CA]</td>\n",
              "      <td>1</td>\n",
              "    </tr>\n",
              "    <tr>\n",
              "      <th>5</th>\n",
              "      <td>Zip</td>\n",
              "      <td>int64</td>\n",
              "      <td>[92801, 90505, 92103, 92108, 91345]</td>\n",
              "      <td>814</td>\n",
              "    </tr>\n",
              "    <tr>\n",
              "      <th>6</th>\n",
              "      <td>Bank</td>\n",
              "      <td>object</td>\n",
              "      <td>[CALIFORNIA BANK &amp; TRUST, SBA - EDF ENFORCEMEN...</td>\n",
              "      <td>154</td>\n",
              "    </tr>\n",
              "    <tr>\n",
              "      <th>7</th>\n",
              "      <td>BankState</td>\n",
              "      <td>object</td>\n",
              "      <td>[CA, CO, OH, NV, NC]</td>\n",
              "      <td>21</td>\n",
              "    </tr>\n",
              "    <tr>\n",
              "      <th>8</th>\n",
              "      <td>NAICS</td>\n",
              "      <td>int64</td>\n",
              "      <td>[532420, 531210, 531312, 531390, 531320]</td>\n",
              "      <td>24</td>\n",
              "    </tr>\n",
              "    <tr>\n",
              "      <th>9</th>\n",
              "      <td>ApprovalDate</td>\n",
              "      <td>int64</td>\n",
              "      <td>[15074, 15130, 15188, 15719, 16840]</td>\n",
              "      <td>1367</td>\n",
              "    </tr>\n",
              "    <tr>\n",
              "      <th>10</th>\n",
              "      <td>ApprovalFY</td>\n",
              "      <td>int64</td>\n",
              "      <td>[2001, 2003, 2006, 2004, 1997]</td>\n",
              "      <td>24</td>\n",
              "    </tr>\n",
              "    <tr>\n",
              "      <th>11</th>\n",
              "      <td>Term</td>\n",
              "      <td>int64</td>\n",
              "      <td>[36, 56, 240, 84, 269]</td>\n",
              "      <td>170</td>\n",
              "    </tr>\n",
              "    <tr>\n",
              "      <th>12</th>\n",
              "      <td>NoEmp</td>\n",
              "      <td>int64</td>\n",
              "      <td>[1, 10, 6, 65, 2]</td>\n",
              "      <td>83</td>\n",
              "    </tr>\n",
              "    <tr>\n",
              "      <th>13</th>\n",
              "      <td>NewExist</td>\n",
              "      <td>float64</td>\n",
              "      <td>[1.0, 2.0, nan, 0.0]</td>\n",
              "      <td>3</td>\n",
              "    </tr>\n",
              "    <tr>\n",
              "      <th>14</th>\n",
              "      <td>CreateJob</td>\n",
              "      <td>int64</td>\n",
              "      <td>[0, 3, 2, 7, 8]</td>\n",
              "      <td>43</td>\n",
              "    </tr>\n",
              "    <tr>\n",
              "      <th>15</th>\n",
              "      <td>RetainedJob</td>\n",
              "      <td>int64</td>\n",
              "      <td>[0, 65, 2, 1, 20]</td>\n",
              "      <td>62</td>\n",
              "    </tr>\n",
              "    <tr>\n",
              "      <th>16</th>\n",
              "      <td>FranchiseCode</td>\n",
              "      <td>int64</td>\n",
              "      <td>[1, 15710, 37481, 0, 69149]</td>\n",
              "      <td>33</td>\n",
              "    </tr>\n",
              "    <tr>\n",
              "      <th>17</th>\n",
              "      <td>UrbanRural</td>\n",
              "      <td>int64</td>\n",
              "      <td>[0, 1, 2]</td>\n",
              "      <td>3</td>\n",
              "    </tr>\n",
              "    <tr>\n",
              "      <th>18</th>\n",
              "      <td>RevLineCr</td>\n",
              "      <td>object</td>\n",
              "      <td>[Y, 0, N, T, nan]</td>\n",
              "      <td>4</td>\n",
              "    </tr>\n",
              "    <tr>\n",
              "      <th>19</th>\n",
              "      <td>LowDoc</td>\n",
              "      <td>object</td>\n",
              "      <td>[N, Y, S, A, nan]</td>\n",
              "      <td>5</td>\n",
              "    </tr>\n",
              "    <tr>\n",
              "      <th>20</th>\n",
              "      <td>ChgOffDate</td>\n",
              "      <td>float64</td>\n",
              "      <td>[nan, 18641.0, 18189.0, 16947.0, 17197.0]</td>\n",
              "      <td>503</td>\n",
              "    </tr>\n",
              "    <tr>\n",
              "      <th>21</th>\n",
              "      <td>DisbursementDate</td>\n",
              "      <td>float64</td>\n",
              "      <td>[15095.0, 15978.0, 15218.0, 15736.0, 16903.0]</td>\n",
              "      <td>321</td>\n",
              "    </tr>\n",
              "    <tr>\n",
              "      <th>22</th>\n",
              "      <td>DisbursementGross</td>\n",
              "      <td>int64</td>\n",
              "      <td>[32812, 30000, 50000, 343000, 55825]</td>\n",
              "      <td>1182</td>\n",
              "    </tr>\n",
              "    <tr>\n",
              "      <th>23</th>\n",
              "      <td>BalanceGross</td>\n",
              "      <td>int64</td>\n",
              "      <td>[0]</td>\n",
              "      <td>1</td>\n",
              "    </tr>\n",
              "    <tr>\n",
              "      <th>24</th>\n",
              "      <td>MIS_Status</td>\n",
              "      <td>object</td>\n",
              "      <td>[P I F, CHGOFF]</td>\n",
              "      <td>2</td>\n",
              "    </tr>\n",
              "    <tr>\n",
              "      <th>25</th>\n",
              "      <td>ChgOffPrinGr</td>\n",
              "      <td>int64</td>\n",
              "      <td>[0, 247074, 35333, 47211, 29700]</td>\n",
              "      <td>615</td>\n",
              "    </tr>\n",
              "    <tr>\n",
              "      <th>26</th>\n",
              "      <td>GrAppv</td>\n",
              "      <td>int64</td>\n",
              "      <td>[30000, 50000, 343000, 297500, 10000]</td>\n",
              "      <td>659</td>\n",
              "    </tr>\n",
              "    <tr>\n",
              "      <th>27</th>\n",
              "      <td>SBA_Appv</td>\n",
              "      <td>int64</td>\n",
              "      <td>[15000, 25000, 343000, 223125, 5000]</td>\n",
              "      <td>755</td>\n",
              "    </tr>\n",
              "    <tr>\n",
              "      <th>28</th>\n",
              "      <td>New</td>\n",
              "      <td>int64</td>\n",
              "      <td>[0, 1]</td>\n",
              "      <td>2</td>\n",
              "    </tr>\n",
              "    <tr>\n",
              "      <th>29</th>\n",
              "      <td>RealEstate</td>\n",
              "      <td>int64</td>\n",
              "      <td>[0, 1]</td>\n",
              "      <td>2</td>\n",
              "    </tr>\n",
              "    <tr>\n",
              "      <th>30</th>\n",
              "      <td>Portion</td>\n",
              "      <td>float64</td>\n",
              "      <td>[0.5, 1.0, 0.75, 0.8, 0.85]</td>\n",
              "      <td>31</td>\n",
              "    </tr>\n",
              "    <tr>\n",
              "      <th>31</th>\n",
              "      <td>Recession</td>\n",
              "      <td>int64</td>\n",
              "      <td>[0, 1]</td>\n",
              "      <td>2</td>\n",
              "    </tr>\n",
              "    <tr>\n",
              "      <th>32</th>\n",
              "      <td>daysterm</td>\n",
              "      <td>int64</td>\n",
              "      <td>[1080, 1680, 7200, 2520, 8070]</td>\n",
              "      <td>170</td>\n",
              "    </tr>\n",
              "    <tr>\n",
              "      <th>33</th>\n",
              "      <td>xx</td>\n",
              "      <td>float64</td>\n",
              "      <td>[16175.0, 17658.0, 16298.0, 16816.0, 24103.0]</td>\n",
              "      <td>1212</td>\n",
              "    </tr>\n",
              "    <tr>\n",
              "      <th>34</th>\n",
              "      <td>Default</td>\n",
              "      <td>int64</td>\n",
              "      <td>[0, 1]</td>\n",
              "      <td>2</td>\n",
              "    </tr>\n",
              "  </tbody>\n",
              "</table>\n",
              "</div>"
            ],
            "text/plain": [
              "               Column  ... n_uniques\n",
              "0            Selected  ...         2\n",
              "1       LoanNr_ChkDgt  ...      2102\n",
              "2                Name  ...      2005\n",
              "3                City  ...       519\n",
              "4               State  ...         1\n",
              "5                 Zip  ...       814\n",
              "6                Bank  ...       154\n",
              "7           BankState  ...        21\n",
              "8               NAICS  ...        24\n",
              "9        ApprovalDate  ...      1367\n",
              "10         ApprovalFY  ...        24\n",
              "11               Term  ...       170\n",
              "12              NoEmp  ...        83\n",
              "13           NewExist  ...         3\n",
              "14          CreateJob  ...        43\n",
              "15        RetainedJob  ...        62\n",
              "16      FranchiseCode  ...        33\n",
              "17         UrbanRural  ...         3\n",
              "18          RevLineCr  ...         4\n",
              "19             LowDoc  ...         5\n",
              "20         ChgOffDate  ...       503\n",
              "21   DisbursementDate  ...       321\n",
              "22  DisbursementGross  ...      1182\n",
              "23       BalanceGross  ...         1\n",
              "24         MIS_Status  ...         2\n",
              "25       ChgOffPrinGr  ...       615\n",
              "26             GrAppv  ...       659\n",
              "27           SBA_Appv  ...       755\n",
              "28                New  ...         2\n",
              "29         RealEstate  ...         2\n",
              "30            Portion  ...        31\n",
              "31          Recession  ...         2\n",
              "32           daysterm  ...       170\n",
              "33                 xx  ...      1212\n",
              "34            Default  ...         2\n",
              "\n",
              "[35 rows x 4 columns]"
            ]
          },
          "metadata": {},
          "execution_count": 10
        }
      ]
    },
    {
      "cell_type": "code",
      "metadata": {
        "id": "j7Rc7WXjgDJD"
      },
      "source": [
        "# Fill Missing Values\n",
        "\n",
        "data['NewExist'].fillna(data['NewExist'].median(), inplace=True)\n",
        "data['ChgOffDate'].fillna(data['ChgOffDate'].median(), inplace=True)\n",
        "data['DisbursementDate'].fillna(data['DisbursementDate'].median(), inplace=True)\n",
        "data['xx'].fillna(data['xx'].median(), inplace=True)"
      ],
      "execution_count": 11,
      "outputs": []
    },
    {
      "cell_type": "code",
      "metadata": {
        "colab": {
          "base_uri": "https://localhost:8080/",
          "height": 1000
        },
        "id": "77MRrgKOMZ04",
        "outputId": "38742846-ed4d-48f3-b23f-c968a8788848"
      },
      "source": [
        "cekna(data)"
      ],
      "execution_count": 12,
      "outputs": [
        {
          "output_type": "execute_result",
          "data": {
            "text/html": [
              "<div>\n",
              "<style scoped>\n",
              "    .dataframe tbody tr th:only-of-type {\n",
              "        vertical-align: middle;\n",
              "    }\n",
              "\n",
              "    .dataframe tbody tr th {\n",
              "        vertical-align: top;\n",
              "    }\n",
              "\n",
              "    .dataframe thead th {\n",
              "        text-align: right;\n",
              "    }\n",
              "</style>\n",
              "<table border=\"1\" class=\"dataframe\">\n",
              "  <thead>\n",
              "    <tr style=\"text-align: right;\">\n",
              "      <th></th>\n",
              "      <th>Column</th>\n",
              "      <th>d_type</th>\n",
              "      <th>Is NA</th>\n",
              "      <th>NA_value</th>\n",
              "    </tr>\n",
              "  </thead>\n",
              "  <tbody>\n",
              "    <tr>\n",
              "      <th>0</th>\n",
              "      <td>Selected</td>\n",
              "      <td>int64</td>\n",
              "      <td>False</td>\n",
              "      <td>0.000000</td>\n",
              "    </tr>\n",
              "    <tr>\n",
              "      <th>1</th>\n",
              "      <td>LoanNr_ChkDgt</td>\n",
              "      <td>int64</td>\n",
              "      <td>False</td>\n",
              "      <td>0.000000</td>\n",
              "    </tr>\n",
              "    <tr>\n",
              "      <th>2</th>\n",
              "      <td>Name</td>\n",
              "      <td>object</td>\n",
              "      <td>False</td>\n",
              "      <td>0.000000</td>\n",
              "    </tr>\n",
              "    <tr>\n",
              "      <th>3</th>\n",
              "      <td>City</td>\n",
              "      <td>object</td>\n",
              "      <td>False</td>\n",
              "      <td>0.000000</td>\n",
              "    </tr>\n",
              "    <tr>\n",
              "      <th>4</th>\n",
              "      <td>State</td>\n",
              "      <td>object</td>\n",
              "      <td>False</td>\n",
              "      <td>0.000000</td>\n",
              "    </tr>\n",
              "    <tr>\n",
              "      <th>5</th>\n",
              "      <td>Zip</td>\n",
              "      <td>int64</td>\n",
              "      <td>False</td>\n",
              "      <td>0.000000</td>\n",
              "    </tr>\n",
              "    <tr>\n",
              "      <th>6</th>\n",
              "      <td>Bank</td>\n",
              "      <td>object</td>\n",
              "      <td>True</td>\n",
              "      <td>0.142721</td>\n",
              "    </tr>\n",
              "    <tr>\n",
              "      <th>7</th>\n",
              "      <td>BankState</td>\n",
              "      <td>object</td>\n",
              "      <td>True</td>\n",
              "      <td>0.142721</td>\n",
              "    </tr>\n",
              "    <tr>\n",
              "      <th>8</th>\n",
              "      <td>NAICS</td>\n",
              "      <td>int64</td>\n",
              "      <td>False</td>\n",
              "      <td>0.000000</td>\n",
              "    </tr>\n",
              "    <tr>\n",
              "      <th>9</th>\n",
              "      <td>ApprovalDate</td>\n",
              "      <td>int64</td>\n",
              "      <td>False</td>\n",
              "      <td>0.000000</td>\n",
              "    </tr>\n",
              "    <tr>\n",
              "      <th>10</th>\n",
              "      <td>ApprovalFY</td>\n",
              "      <td>int64</td>\n",
              "      <td>False</td>\n",
              "      <td>0.000000</td>\n",
              "    </tr>\n",
              "    <tr>\n",
              "      <th>11</th>\n",
              "      <td>Term</td>\n",
              "      <td>int64</td>\n",
              "      <td>False</td>\n",
              "      <td>0.000000</td>\n",
              "    </tr>\n",
              "    <tr>\n",
              "      <th>12</th>\n",
              "      <td>NoEmp</td>\n",
              "      <td>int64</td>\n",
              "      <td>False</td>\n",
              "      <td>0.000000</td>\n",
              "    </tr>\n",
              "    <tr>\n",
              "      <th>13</th>\n",
              "      <td>NewExist</td>\n",
              "      <td>float64</td>\n",
              "      <td>False</td>\n",
              "      <td>0.000000</td>\n",
              "    </tr>\n",
              "    <tr>\n",
              "      <th>14</th>\n",
              "      <td>CreateJob</td>\n",
              "      <td>int64</td>\n",
              "      <td>False</td>\n",
              "      <td>0.000000</td>\n",
              "    </tr>\n",
              "    <tr>\n",
              "      <th>15</th>\n",
              "      <td>RetainedJob</td>\n",
              "      <td>int64</td>\n",
              "      <td>False</td>\n",
              "      <td>0.000000</td>\n",
              "    </tr>\n",
              "    <tr>\n",
              "      <th>16</th>\n",
              "      <td>FranchiseCode</td>\n",
              "      <td>int64</td>\n",
              "      <td>False</td>\n",
              "      <td>0.000000</td>\n",
              "    </tr>\n",
              "    <tr>\n",
              "      <th>17</th>\n",
              "      <td>UrbanRural</td>\n",
              "      <td>int64</td>\n",
              "      <td>False</td>\n",
              "      <td>0.000000</td>\n",
              "    </tr>\n",
              "    <tr>\n",
              "      <th>18</th>\n",
              "      <td>RevLineCr</td>\n",
              "      <td>object</td>\n",
              "      <td>True</td>\n",
              "      <td>0.095147</td>\n",
              "    </tr>\n",
              "    <tr>\n",
              "      <th>19</th>\n",
              "      <td>LowDoc</td>\n",
              "      <td>object</td>\n",
              "      <td>True</td>\n",
              "      <td>0.142721</td>\n",
              "    </tr>\n",
              "    <tr>\n",
              "      <th>20</th>\n",
              "      <td>ChgOffDate</td>\n",
              "      <td>float64</td>\n",
              "      <td>False</td>\n",
              "      <td>0.000000</td>\n",
              "    </tr>\n",
              "    <tr>\n",
              "      <th>21</th>\n",
              "      <td>DisbursementDate</td>\n",
              "      <td>float64</td>\n",
              "      <td>False</td>\n",
              "      <td>0.000000</td>\n",
              "    </tr>\n",
              "    <tr>\n",
              "      <th>22</th>\n",
              "      <td>DisbursementGross</td>\n",
              "      <td>int64</td>\n",
              "      <td>False</td>\n",
              "      <td>0.000000</td>\n",
              "    </tr>\n",
              "    <tr>\n",
              "      <th>23</th>\n",
              "      <td>BalanceGross</td>\n",
              "      <td>int64</td>\n",
              "      <td>False</td>\n",
              "      <td>0.000000</td>\n",
              "    </tr>\n",
              "    <tr>\n",
              "      <th>24</th>\n",
              "      <td>MIS_Status</td>\n",
              "      <td>object</td>\n",
              "      <td>False</td>\n",
              "      <td>0.000000</td>\n",
              "    </tr>\n",
              "    <tr>\n",
              "      <th>25</th>\n",
              "      <td>ChgOffPrinGr</td>\n",
              "      <td>int64</td>\n",
              "      <td>False</td>\n",
              "      <td>0.000000</td>\n",
              "    </tr>\n",
              "    <tr>\n",
              "      <th>26</th>\n",
              "      <td>GrAppv</td>\n",
              "      <td>int64</td>\n",
              "      <td>False</td>\n",
              "      <td>0.000000</td>\n",
              "    </tr>\n",
              "    <tr>\n",
              "      <th>27</th>\n",
              "      <td>SBA_Appv</td>\n",
              "      <td>int64</td>\n",
              "      <td>False</td>\n",
              "      <td>0.000000</td>\n",
              "    </tr>\n",
              "    <tr>\n",
              "      <th>28</th>\n",
              "      <td>New</td>\n",
              "      <td>int64</td>\n",
              "      <td>False</td>\n",
              "      <td>0.000000</td>\n",
              "    </tr>\n",
              "    <tr>\n",
              "      <th>29</th>\n",
              "      <td>RealEstate</td>\n",
              "      <td>int64</td>\n",
              "      <td>False</td>\n",
              "      <td>0.000000</td>\n",
              "    </tr>\n",
              "    <tr>\n",
              "      <th>30</th>\n",
              "      <td>Portion</td>\n",
              "      <td>float64</td>\n",
              "      <td>False</td>\n",
              "      <td>0.000000</td>\n",
              "    </tr>\n",
              "    <tr>\n",
              "      <th>31</th>\n",
              "      <td>Recession</td>\n",
              "      <td>int64</td>\n",
              "      <td>False</td>\n",
              "      <td>0.000000</td>\n",
              "    </tr>\n",
              "    <tr>\n",
              "      <th>32</th>\n",
              "      <td>daysterm</td>\n",
              "      <td>int64</td>\n",
              "      <td>False</td>\n",
              "      <td>0.000000</td>\n",
              "    </tr>\n",
              "    <tr>\n",
              "      <th>33</th>\n",
              "      <td>xx</td>\n",
              "      <td>float64</td>\n",
              "      <td>False</td>\n",
              "      <td>0.000000</td>\n",
              "    </tr>\n",
              "    <tr>\n",
              "      <th>34</th>\n",
              "      <td>Default</td>\n",
              "      <td>int64</td>\n",
              "      <td>False</td>\n",
              "      <td>0.000000</td>\n",
              "    </tr>\n",
              "  </tbody>\n",
              "</table>\n",
              "</div>"
            ],
            "text/plain": [
              "               Column   d_type  Is NA  NA_value\n",
              "0            Selected    int64  False  0.000000\n",
              "1       LoanNr_ChkDgt    int64  False  0.000000\n",
              "2                Name   object  False  0.000000\n",
              "3                City   object  False  0.000000\n",
              "4               State   object  False  0.000000\n",
              "5                 Zip    int64  False  0.000000\n",
              "6                Bank   object   True  0.142721\n",
              "7           BankState   object   True  0.142721\n",
              "8               NAICS    int64  False  0.000000\n",
              "9        ApprovalDate    int64  False  0.000000\n",
              "10         ApprovalFY    int64  False  0.000000\n",
              "11               Term    int64  False  0.000000\n",
              "12              NoEmp    int64  False  0.000000\n",
              "13           NewExist  float64  False  0.000000\n",
              "14          CreateJob    int64  False  0.000000\n",
              "15        RetainedJob    int64  False  0.000000\n",
              "16      FranchiseCode    int64  False  0.000000\n",
              "17         UrbanRural    int64  False  0.000000\n",
              "18          RevLineCr   object   True  0.095147\n",
              "19             LowDoc   object   True  0.142721\n",
              "20         ChgOffDate  float64  False  0.000000\n",
              "21   DisbursementDate  float64  False  0.000000\n",
              "22  DisbursementGross    int64  False  0.000000\n",
              "23       BalanceGross    int64  False  0.000000\n",
              "24         MIS_Status   object  False  0.000000\n",
              "25       ChgOffPrinGr    int64  False  0.000000\n",
              "26             GrAppv    int64  False  0.000000\n",
              "27           SBA_Appv    int64  False  0.000000\n",
              "28                New    int64  False  0.000000\n",
              "29         RealEstate    int64  False  0.000000\n",
              "30            Portion  float64  False  0.000000\n",
              "31          Recession    int64  False  0.000000\n",
              "32           daysterm    int64  False  0.000000\n",
              "33                 xx  float64  False  0.000000\n",
              "34            Default    int64  False  0.000000"
            ]
          },
          "metadata": {},
          "execution_count": 12
        }
      ]
    },
    {
      "cell_type": "markdown",
      "metadata": {
        "id": "oR-0Fmka2fZ4"
      },
      "source": [
        "Drop variabel identifikasi"
      ]
    },
    {
      "cell_type": "code",
      "metadata": {
        "id": "0bv5t1Zs2c_N"
      },
      "source": [
        "data = data.drop(['LoanNr_ChkDgt', 'Selected', 'Name', 'City', 'State', 'Zip', 'Bank', 'BankState', 'NAICS', \n",
        "                  'BalanceGross', 'UrbanRural'], axis=1)"
      ],
      "execution_count": 13,
      "outputs": []
    },
    {
      "cell_type": "markdown",
      "metadata": {
        "id": "0CK7Eut382Y_"
      },
      "source": [
        "Drop data tanggal"
      ]
    },
    {
      "cell_type": "code",
      "metadata": {
        "id": "vfunzZ9x82DI"
      },
      "source": [
        "data = data.drop(['ApprovalDate', 'ChgOffDate', 'DisbursementDate'], axis=1)"
      ],
      "execution_count": 14,
      "outputs": []
    },
    {
      "cell_type": "markdown",
      "metadata": {
        "id": "aDmMpFlL2v1K"
      },
      "source": [
        "Encoding "
      ]
    },
    {
      "cell_type": "code",
      "metadata": {
        "id": "Kt6AKH6S48cM"
      },
      "source": [
        "# replacing values (other than Y will be N)\n",
        "# FranchiseCode will be replaced as 1 (if business has franchise) and 0 (if business doesn't have franchise)\n",
        "data.loc[data['RevLineCr'] != 'Y', 'RevLineCr'] = 'N'\n",
        "data.loc[data['LowDoc'] != 'Y', 'LowDoc'] = 'N'\n",
        "data.loc[data['FranchiseCode'] == 1, 'FranchiseCode'] = 0\n",
        "data.loc[data['FranchiseCode'] != 0, 'FranchiseCode'] = 1"
      ],
      "execution_count": 15,
      "outputs": []
    },
    {
      "cell_type": "code",
      "metadata": {
        "colab": {
          "base_uri": "https://localhost:8080/",
          "height": 700
        },
        "id": "KM9Fz-oj4JTn",
        "outputId": "5976f2e5-9666-433e-8931-d530166a78b0"
      },
      "source": [
        "report(data)"
      ],
      "execution_count": 16,
      "outputs": [
        {
          "output_type": "execute_result",
          "data": {
            "text/html": [
              "<div>\n",
              "<style scoped>\n",
              "    .dataframe tbody tr th:only-of-type {\n",
              "        vertical-align: middle;\n",
              "    }\n",
              "\n",
              "    .dataframe tbody tr th {\n",
              "        vertical-align: top;\n",
              "    }\n",
              "\n",
              "    .dataframe thead th {\n",
              "        text-align: right;\n",
              "    }\n",
              "</style>\n",
              "<table border=\"1\" class=\"dataframe\">\n",
              "  <thead>\n",
              "    <tr style=\"text-align: right;\">\n",
              "      <th></th>\n",
              "      <th>Column</th>\n",
              "      <th>d_type</th>\n",
              "      <th>unique_sample</th>\n",
              "      <th>n_uniques</th>\n",
              "    </tr>\n",
              "  </thead>\n",
              "  <tbody>\n",
              "    <tr>\n",
              "      <th>0</th>\n",
              "      <td>ApprovalFY</td>\n",
              "      <td>int64</td>\n",
              "      <td>[2001, 2003, 2006, 2004, 1997]</td>\n",
              "      <td>24</td>\n",
              "    </tr>\n",
              "    <tr>\n",
              "      <th>1</th>\n",
              "      <td>Term</td>\n",
              "      <td>int64</td>\n",
              "      <td>[36, 56, 240, 84, 269]</td>\n",
              "      <td>170</td>\n",
              "    </tr>\n",
              "    <tr>\n",
              "      <th>2</th>\n",
              "      <td>NoEmp</td>\n",
              "      <td>int64</td>\n",
              "      <td>[1, 10, 6, 65, 2]</td>\n",
              "      <td>83</td>\n",
              "    </tr>\n",
              "    <tr>\n",
              "      <th>3</th>\n",
              "      <td>NewExist</td>\n",
              "      <td>float64</td>\n",
              "      <td>[1.0, 2.0, 0.0]</td>\n",
              "      <td>3</td>\n",
              "    </tr>\n",
              "    <tr>\n",
              "      <th>4</th>\n",
              "      <td>CreateJob</td>\n",
              "      <td>int64</td>\n",
              "      <td>[0, 3, 2, 7, 8]</td>\n",
              "      <td>43</td>\n",
              "    </tr>\n",
              "    <tr>\n",
              "      <th>5</th>\n",
              "      <td>RetainedJob</td>\n",
              "      <td>int64</td>\n",
              "      <td>[0, 65, 2, 1, 20]</td>\n",
              "      <td>62</td>\n",
              "    </tr>\n",
              "    <tr>\n",
              "      <th>6</th>\n",
              "      <td>FranchiseCode</td>\n",
              "      <td>int64</td>\n",
              "      <td>[0, 1]</td>\n",
              "      <td>2</td>\n",
              "    </tr>\n",
              "    <tr>\n",
              "      <th>7</th>\n",
              "      <td>RevLineCr</td>\n",
              "      <td>object</td>\n",
              "      <td>[Y, N]</td>\n",
              "      <td>2</td>\n",
              "    </tr>\n",
              "    <tr>\n",
              "      <th>8</th>\n",
              "      <td>LowDoc</td>\n",
              "      <td>object</td>\n",
              "      <td>[N, Y]</td>\n",
              "      <td>2</td>\n",
              "    </tr>\n",
              "    <tr>\n",
              "      <th>9</th>\n",
              "      <td>DisbursementGross</td>\n",
              "      <td>int64</td>\n",
              "      <td>[32812, 30000, 50000, 343000, 55825]</td>\n",
              "      <td>1182</td>\n",
              "    </tr>\n",
              "    <tr>\n",
              "      <th>10</th>\n",
              "      <td>MIS_Status</td>\n",
              "      <td>object</td>\n",
              "      <td>[P I F, CHGOFF]</td>\n",
              "      <td>2</td>\n",
              "    </tr>\n",
              "    <tr>\n",
              "      <th>11</th>\n",
              "      <td>ChgOffPrinGr</td>\n",
              "      <td>int64</td>\n",
              "      <td>[0, 247074, 35333, 47211, 29700]</td>\n",
              "      <td>615</td>\n",
              "    </tr>\n",
              "    <tr>\n",
              "      <th>12</th>\n",
              "      <td>GrAppv</td>\n",
              "      <td>int64</td>\n",
              "      <td>[30000, 50000, 343000, 297500, 10000]</td>\n",
              "      <td>659</td>\n",
              "    </tr>\n",
              "    <tr>\n",
              "      <th>13</th>\n",
              "      <td>SBA_Appv</td>\n",
              "      <td>int64</td>\n",
              "      <td>[15000, 25000, 343000, 223125, 5000]</td>\n",
              "      <td>755</td>\n",
              "    </tr>\n",
              "    <tr>\n",
              "      <th>14</th>\n",
              "      <td>New</td>\n",
              "      <td>int64</td>\n",
              "      <td>[0, 1]</td>\n",
              "      <td>2</td>\n",
              "    </tr>\n",
              "    <tr>\n",
              "      <th>15</th>\n",
              "      <td>RealEstate</td>\n",
              "      <td>int64</td>\n",
              "      <td>[0, 1]</td>\n",
              "      <td>2</td>\n",
              "    </tr>\n",
              "    <tr>\n",
              "      <th>16</th>\n",
              "      <td>Portion</td>\n",
              "      <td>float64</td>\n",
              "      <td>[0.5, 1.0, 0.75, 0.8, 0.85]</td>\n",
              "      <td>31</td>\n",
              "    </tr>\n",
              "    <tr>\n",
              "      <th>17</th>\n",
              "      <td>Recession</td>\n",
              "      <td>int64</td>\n",
              "      <td>[0, 1]</td>\n",
              "      <td>2</td>\n",
              "    </tr>\n",
              "    <tr>\n",
              "      <th>18</th>\n",
              "      <td>daysterm</td>\n",
              "      <td>int64</td>\n",
              "      <td>[1080, 1680, 7200, 2520, 8070]</td>\n",
              "      <td>170</td>\n",
              "    </tr>\n",
              "    <tr>\n",
              "      <th>19</th>\n",
              "      <td>xx</td>\n",
              "      <td>float64</td>\n",
              "      <td>[16175.0, 17658.0, 16298.0, 16816.0, 24103.0]</td>\n",
              "      <td>1212</td>\n",
              "    </tr>\n",
              "    <tr>\n",
              "      <th>20</th>\n",
              "      <td>Default</td>\n",
              "      <td>int64</td>\n",
              "      <td>[0, 1]</td>\n",
              "      <td>2</td>\n",
              "    </tr>\n",
              "  </tbody>\n",
              "</table>\n",
              "</div>"
            ],
            "text/plain": [
              "               Column  ... n_uniques\n",
              "0          ApprovalFY  ...        24\n",
              "1                Term  ...       170\n",
              "2               NoEmp  ...        83\n",
              "3            NewExist  ...         3\n",
              "4           CreateJob  ...        43\n",
              "5         RetainedJob  ...        62\n",
              "6       FranchiseCode  ...         2\n",
              "7           RevLineCr  ...         2\n",
              "8              LowDoc  ...         2\n",
              "9   DisbursementGross  ...      1182\n",
              "10         MIS_Status  ...         2\n",
              "11       ChgOffPrinGr  ...       615\n",
              "12             GrAppv  ...       659\n",
              "13           SBA_Appv  ...       755\n",
              "14                New  ...         2\n",
              "15         RealEstate  ...         2\n",
              "16            Portion  ...        31\n",
              "17          Recession  ...         2\n",
              "18           daysterm  ...       170\n",
              "19                 xx  ...      1212\n",
              "20            Default  ...         2\n",
              "\n",
              "[21 rows x 4 columns]"
            ]
          },
          "metadata": {},
          "execution_count": 16
        }
      ]
    },
    {
      "cell_type": "code",
      "metadata": {
        "colab": {
          "base_uri": "https://localhost:8080/",
          "height": 700
        },
        "id": "MA34NKcD5vHf",
        "outputId": "7e722403-7b29-4636-c731-498eb4b5148e"
      },
      "source": [
        "labelencoder = LabelEncoder()\n",
        "data['RevLineCr'] = labelencoder.fit_transform(data['RealEstate'])\n",
        "data['LowDoc'] = labelencoder.fit_transform(data['LowDoc'])\n",
        "data['MIS_Status'] = labelencoder.fit_transform(data['MIS_Status'])\n",
        "report(data)"
      ],
      "execution_count": 17,
      "outputs": [
        {
          "output_type": "execute_result",
          "data": {
            "text/html": [
              "<div>\n",
              "<style scoped>\n",
              "    .dataframe tbody tr th:only-of-type {\n",
              "        vertical-align: middle;\n",
              "    }\n",
              "\n",
              "    .dataframe tbody tr th {\n",
              "        vertical-align: top;\n",
              "    }\n",
              "\n",
              "    .dataframe thead th {\n",
              "        text-align: right;\n",
              "    }\n",
              "</style>\n",
              "<table border=\"1\" class=\"dataframe\">\n",
              "  <thead>\n",
              "    <tr style=\"text-align: right;\">\n",
              "      <th></th>\n",
              "      <th>Column</th>\n",
              "      <th>d_type</th>\n",
              "      <th>unique_sample</th>\n",
              "      <th>n_uniques</th>\n",
              "    </tr>\n",
              "  </thead>\n",
              "  <tbody>\n",
              "    <tr>\n",
              "      <th>0</th>\n",
              "      <td>ApprovalFY</td>\n",
              "      <td>int64</td>\n",
              "      <td>[2001, 2003, 2006, 2004, 1997]</td>\n",
              "      <td>24</td>\n",
              "    </tr>\n",
              "    <tr>\n",
              "      <th>1</th>\n",
              "      <td>Term</td>\n",
              "      <td>int64</td>\n",
              "      <td>[36, 56, 240, 84, 269]</td>\n",
              "      <td>170</td>\n",
              "    </tr>\n",
              "    <tr>\n",
              "      <th>2</th>\n",
              "      <td>NoEmp</td>\n",
              "      <td>int64</td>\n",
              "      <td>[1, 10, 6, 65, 2]</td>\n",
              "      <td>83</td>\n",
              "    </tr>\n",
              "    <tr>\n",
              "      <th>3</th>\n",
              "      <td>NewExist</td>\n",
              "      <td>float64</td>\n",
              "      <td>[1.0, 2.0, 0.0]</td>\n",
              "      <td>3</td>\n",
              "    </tr>\n",
              "    <tr>\n",
              "      <th>4</th>\n",
              "      <td>CreateJob</td>\n",
              "      <td>int64</td>\n",
              "      <td>[0, 3, 2, 7, 8]</td>\n",
              "      <td>43</td>\n",
              "    </tr>\n",
              "    <tr>\n",
              "      <th>5</th>\n",
              "      <td>RetainedJob</td>\n",
              "      <td>int64</td>\n",
              "      <td>[0, 65, 2, 1, 20]</td>\n",
              "      <td>62</td>\n",
              "    </tr>\n",
              "    <tr>\n",
              "      <th>6</th>\n",
              "      <td>FranchiseCode</td>\n",
              "      <td>int64</td>\n",
              "      <td>[0, 1]</td>\n",
              "      <td>2</td>\n",
              "    </tr>\n",
              "    <tr>\n",
              "      <th>7</th>\n",
              "      <td>RevLineCr</td>\n",
              "      <td>int64</td>\n",
              "      <td>[0, 1]</td>\n",
              "      <td>2</td>\n",
              "    </tr>\n",
              "    <tr>\n",
              "      <th>8</th>\n",
              "      <td>LowDoc</td>\n",
              "      <td>int64</td>\n",
              "      <td>[0, 1]</td>\n",
              "      <td>2</td>\n",
              "    </tr>\n",
              "    <tr>\n",
              "      <th>9</th>\n",
              "      <td>DisbursementGross</td>\n",
              "      <td>int64</td>\n",
              "      <td>[32812, 30000, 50000, 343000, 55825]</td>\n",
              "      <td>1182</td>\n",
              "    </tr>\n",
              "    <tr>\n",
              "      <th>10</th>\n",
              "      <td>MIS_Status</td>\n",
              "      <td>int64</td>\n",
              "      <td>[1, 0]</td>\n",
              "      <td>2</td>\n",
              "    </tr>\n",
              "    <tr>\n",
              "      <th>11</th>\n",
              "      <td>ChgOffPrinGr</td>\n",
              "      <td>int64</td>\n",
              "      <td>[0, 247074, 35333, 47211, 29700]</td>\n",
              "      <td>615</td>\n",
              "    </tr>\n",
              "    <tr>\n",
              "      <th>12</th>\n",
              "      <td>GrAppv</td>\n",
              "      <td>int64</td>\n",
              "      <td>[30000, 50000, 343000, 297500, 10000]</td>\n",
              "      <td>659</td>\n",
              "    </tr>\n",
              "    <tr>\n",
              "      <th>13</th>\n",
              "      <td>SBA_Appv</td>\n",
              "      <td>int64</td>\n",
              "      <td>[15000, 25000, 343000, 223125, 5000]</td>\n",
              "      <td>755</td>\n",
              "    </tr>\n",
              "    <tr>\n",
              "      <th>14</th>\n",
              "      <td>New</td>\n",
              "      <td>int64</td>\n",
              "      <td>[0, 1]</td>\n",
              "      <td>2</td>\n",
              "    </tr>\n",
              "    <tr>\n",
              "      <th>15</th>\n",
              "      <td>RealEstate</td>\n",
              "      <td>int64</td>\n",
              "      <td>[0, 1]</td>\n",
              "      <td>2</td>\n",
              "    </tr>\n",
              "    <tr>\n",
              "      <th>16</th>\n",
              "      <td>Portion</td>\n",
              "      <td>float64</td>\n",
              "      <td>[0.5, 1.0, 0.75, 0.8, 0.85]</td>\n",
              "      <td>31</td>\n",
              "    </tr>\n",
              "    <tr>\n",
              "      <th>17</th>\n",
              "      <td>Recession</td>\n",
              "      <td>int64</td>\n",
              "      <td>[0, 1]</td>\n",
              "      <td>2</td>\n",
              "    </tr>\n",
              "    <tr>\n",
              "      <th>18</th>\n",
              "      <td>daysterm</td>\n",
              "      <td>int64</td>\n",
              "      <td>[1080, 1680, 7200, 2520, 8070]</td>\n",
              "      <td>170</td>\n",
              "    </tr>\n",
              "    <tr>\n",
              "      <th>19</th>\n",
              "      <td>xx</td>\n",
              "      <td>float64</td>\n",
              "      <td>[16175.0, 17658.0, 16298.0, 16816.0, 24103.0]</td>\n",
              "      <td>1212</td>\n",
              "    </tr>\n",
              "    <tr>\n",
              "      <th>20</th>\n",
              "      <td>Default</td>\n",
              "      <td>int64</td>\n",
              "      <td>[0, 1]</td>\n",
              "      <td>2</td>\n",
              "    </tr>\n",
              "  </tbody>\n",
              "</table>\n",
              "</div>"
            ],
            "text/plain": [
              "               Column  ... n_uniques\n",
              "0          ApprovalFY  ...        24\n",
              "1                Term  ...       170\n",
              "2               NoEmp  ...        83\n",
              "3            NewExist  ...         3\n",
              "4           CreateJob  ...        43\n",
              "5         RetainedJob  ...        62\n",
              "6       FranchiseCode  ...         2\n",
              "7           RevLineCr  ...         2\n",
              "8              LowDoc  ...         2\n",
              "9   DisbursementGross  ...      1182\n",
              "10         MIS_Status  ...         2\n",
              "11       ChgOffPrinGr  ...       615\n",
              "12             GrAppv  ...       659\n",
              "13           SBA_Appv  ...       755\n",
              "14                New  ...         2\n",
              "15         RealEstate  ...         2\n",
              "16            Portion  ...        31\n",
              "17          Recession  ...         2\n",
              "18           daysterm  ...       170\n",
              "19                 xx  ...      1212\n",
              "20            Default  ...         2\n",
              "\n",
              "[21 rows x 4 columns]"
            ]
          },
          "metadata": {},
          "execution_count": 17
        }
      ]
    },
    {
      "cell_type": "code",
      "metadata": {
        "colab": {
          "base_uri": "https://localhost:8080/"
        },
        "id": "YHncyll65dN5",
        "outputId": "d846793c-01ea-4cc3-f431-10e7ef5be4d6"
      },
      "source": [
        "data.isna().any()"
      ],
      "execution_count": 18,
      "outputs": [
        {
          "output_type": "execute_result",
          "data": {
            "text/plain": [
              "ApprovalFY           False\n",
              "Term                 False\n",
              "NoEmp                False\n",
              "NewExist             False\n",
              "CreateJob            False\n",
              "RetainedJob          False\n",
              "FranchiseCode        False\n",
              "RevLineCr            False\n",
              "LowDoc               False\n",
              "DisbursementGross    False\n",
              "MIS_Status           False\n",
              "ChgOffPrinGr         False\n",
              "GrAppv               False\n",
              "SBA_Appv             False\n",
              "New                  False\n",
              "RealEstate           False\n",
              "Portion              False\n",
              "Recession            False\n",
              "daysterm             False\n",
              "xx                   False\n",
              "Default              False\n",
              "dtype: bool"
            ]
          },
          "metadata": {},
          "execution_count": 18
        }
      ]
    },
    {
      "cell_type": "code",
      "metadata": {
        "colab": {
          "base_uri": "https://localhost:8080/",
          "height": 224
        },
        "id": "7hP_GJwW6TsP",
        "outputId": "0eb3d5e5-5b80-4062-ea8d-b5d33ce1b68f"
      },
      "source": [
        "data.to_csv('data_clean.csv')\n",
        "df = pd.read_csv('data_clean.csv').iloc[:, 1:]\n",
        "df.head()"
      ],
      "execution_count": 19,
      "outputs": [
        {
          "output_type": "execute_result",
          "data": {
            "text/html": [
              "<div>\n",
              "<style scoped>\n",
              "    .dataframe tbody tr th:only-of-type {\n",
              "        vertical-align: middle;\n",
              "    }\n",
              "\n",
              "    .dataframe tbody tr th {\n",
              "        vertical-align: top;\n",
              "    }\n",
              "\n",
              "    .dataframe thead th {\n",
              "        text-align: right;\n",
              "    }\n",
              "</style>\n",
              "<table border=\"1\" class=\"dataframe\">\n",
              "  <thead>\n",
              "    <tr style=\"text-align: right;\">\n",
              "      <th></th>\n",
              "      <th>ApprovalFY</th>\n",
              "      <th>Term</th>\n",
              "      <th>NoEmp</th>\n",
              "      <th>NewExist</th>\n",
              "      <th>CreateJob</th>\n",
              "      <th>RetainedJob</th>\n",
              "      <th>FranchiseCode</th>\n",
              "      <th>RevLineCr</th>\n",
              "      <th>LowDoc</th>\n",
              "      <th>DisbursementGross</th>\n",
              "      <th>MIS_Status</th>\n",
              "      <th>ChgOffPrinGr</th>\n",
              "      <th>GrAppv</th>\n",
              "      <th>SBA_Appv</th>\n",
              "      <th>New</th>\n",
              "      <th>RealEstate</th>\n",
              "      <th>Portion</th>\n",
              "      <th>Recession</th>\n",
              "      <th>daysterm</th>\n",
              "      <th>xx</th>\n",
              "      <th>Default</th>\n",
              "    </tr>\n",
              "  </thead>\n",
              "  <tbody>\n",
              "    <tr>\n",
              "      <th>0</th>\n",
              "      <td>2001</td>\n",
              "      <td>36</td>\n",
              "      <td>1</td>\n",
              "      <td>1.0</td>\n",
              "      <td>0</td>\n",
              "      <td>0</td>\n",
              "      <td>0</td>\n",
              "      <td>0</td>\n",
              "      <td>0</td>\n",
              "      <td>32812</td>\n",
              "      <td>1</td>\n",
              "      <td>0</td>\n",
              "      <td>30000</td>\n",
              "      <td>15000</td>\n",
              "      <td>0</td>\n",
              "      <td>0</td>\n",
              "      <td>0.5</td>\n",
              "      <td>0</td>\n",
              "      <td>1080</td>\n",
              "      <td>16175.0</td>\n",
              "      <td>0</td>\n",
              "    </tr>\n",
              "    <tr>\n",
              "      <th>1</th>\n",
              "      <td>2001</td>\n",
              "      <td>56</td>\n",
              "      <td>1</td>\n",
              "      <td>1.0</td>\n",
              "      <td>0</td>\n",
              "      <td>0</td>\n",
              "      <td>0</td>\n",
              "      <td>0</td>\n",
              "      <td>0</td>\n",
              "      <td>30000</td>\n",
              "      <td>1</td>\n",
              "      <td>0</td>\n",
              "      <td>30000</td>\n",
              "      <td>15000</td>\n",
              "      <td>0</td>\n",
              "      <td>0</td>\n",
              "      <td>0.5</td>\n",
              "      <td>1</td>\n",
              "      <td>1680</td>\n",
              "      <td>17658.0</td>\n",
              "      <td>0</td>\n",
              "    </tr>\n",
              "    <tr>\n",
              "      <th>2</th>\n",
              "      <td>2001</td>\n",
              "      <td>36</td>\n",
              "      <td>10</td>\n",
              "      <td>1.0</td>\n",
              "      <td>0</td>\n",
              "      <td>0</td>\n",
              "      <td>0</td>\n",
              "      <td>0</td>\n",
              "      <td>0</td>\n",
              "      <td>30000</td>\n",
              "      <td>1</td>\n",
              "      <td>0</td>\n",
              "      <td>30000</td>\n",
              "      <td>15000</td>\n",
              "      <td>0</td>\n",
              "      <td>0</td>\n",
              "      <td>0.5</td>\n",
              "      <td>0</td>\n",
              "      <td>1080</td>\n",
              "      <td>16298.0</td>\n",
              "      <td>0</td>\n",
              "    </tr>\n",
              "    <tr>\n",
              "      <th>3</th>\n",
              "      <td>2003</td>\n",
              "      <td>36</td>\n",
              "      <td>6</td>\n",
              "      <td>1.0</td>\n",
              "      <td>0</td>\n",
              "      <td>0</td>\n",
              "      <td>0</td>\n",
              "      <td>0</td>\n",
              "      <td>0</td>\n",
              "      <td>50000</td>\n",
              "      <td>1</td>\n",
              "      <td>0</td>\n",
              "      <td>50000</td>\n",
              "      <td>25000</td>\n",
              "      <td>0</td>\n",
              "      <td>0</td>\n",
              "      <td>0.5</td>\n",
              "      <td>0</td>\n",
              "      <td>1080</td>\n",
              "      <td>16816.0</td>\n",
              "      <td>0</td>\n",
              "    </tr>\n",
              "    <tr>\n",
              "      <th>4</th>\n",
              "      <td>2006</td>\n",
              "      <td>240</td>\n",
              "      <td>65</td>\n",
              "      <td>1.0</td>\n",
              "      <td>3</td>\n",
              "      <td>65</td>\n",
              "      <td>0</td>\n",
              "      <td>1</td>\n",
              "      <td>0</td>\n",
              "      <td>343000</td>\n",
              "      <td>1</td>\n",
              "      <td>0</td>\n",
              "      <td>343000</td>\n",
              "      <td>343000</td>\n",
              "      <td>0</td>\n",
              "      <td>1</td>\n",
              "      <td>1.0</td>\n",
              "      <td>0</td>\n",
              "      <td>7200</td>\n",
              "      <td>24103.0</td>\n",
              "      <td>0</td>\n",
              "    </tr>\n",
              "  </tbody>\n",
              "</table>\n",
              "</div>"
            ],
            "text/plain": [
              "   ApprovalFY  Term  NoEmp  NewExist  ...  Recession  daysterm       xx  Default\n",
              "0        2001    36      1       1.0  ...          0      1080  16175.0        0\n",
              "1        2001    56      1       1.0  ...          1      1680  17658.0        0\n",
              "2        2001    36     10       1.0  ...          0      1080  16298.0        0\n",
              "3        2003    36      6       1.0  ...          0      1080  16816.0        0\n",
              "4        2006   240     65       1.0  ...          0      7200  24103.0        0\n",
              "\n",
              "[5 rows x 21 columns]"
            ]
          },
          "metadata": {},
          "execution_count": 19
        }
      ]
    },
    {
      "cell_type": "markdown",
      "metadata": {
        "id": "7DEDmdCaDlzh"
      },
      "source": [
        "Correlation among each variables"
      ]
    },
    {
      "cell_type": "code",
      "metadata": {
        "colab": {
          "base_uri": "https://localhost:8080/",
          "height": 935
        },
        "id": "sJwErlGJ61nM",
        "outputId": "f12b31a1-687f-44f2-c193-611493607111"
      },
      "source": [
        "plt.figure(figsize=(18,16))\n",
        "sns.heatmap(df.corr(method='spearman').abs(), cmap=plt.cm.Blues, annot=True)"
      ],
      "execution_count": 20,
      "outputs": [
        {
          "output_type": "execute_result",
          "data": {
            "text/plain": [
              "<matplotlib.axes._subplots.AxesSubplot at 0x7f76e790fcd0>"
            ]
          },
          "metadata": {},
          "execution_count": 20
        },
        {
          "output_type": "display_data",
          "data": {
            "image/png": "[encoded data removed]",
            "text/plain": [
              "<Figure size 1296x1152 with 2 Axes>"
            ]
          },
          "metadata": {
            "needs_background": "light"
          }
        }
      ]
    },
    {
      "cell_type": "markdown",
      "metadata": {
        "id": "p7gf7whcD4_1"
      },
      "source": [
        "Remove correlated features with threshold > 0.85 (redundant features)"
      ]
    },
    {
      "cell_type": "code",
      "metadata": {
        "id": "Zs0Lj4YM7Omd"
      },
      "source": [
        "def correlation(dataset, threshold):\n",
        "  col_corr = set()\n",
        "  corr_matrix = dataset.corr()\n",
        "  for i in range(len(corr_matrix.columns)):\n",
        "    for j in range(i):\n",
        "      if abs(corr_matrix.iloc[i, j]) > threshold:\n",
        "        colname = corr_matrix.columns[j]\n",
        "        col_corr.add(colname)\n",
        "  return col_corr"
      ],
      "execution_count": 21,
      "outputs": []
    },
    {
      "cell_type": "code",
      "metadata": {
        "colab": {
          "base_uri": "https://localhost:8080/"
        },
        "id": "AlvoSsiL7qHY",
        "outputId": "bd256f61-ad10-4bc8-db28-906c7f99a933"
      },
      "source": [
        "corr_features = correlation(df, 0.85)\n",
        "corr_features"
      ],
      "execution_count": 22,
      "outputs": [
        {
          "output_type": "execute_result",
          "data": {
            "text/plain": [
              "{'DisbursementGross',\n",
              " 'GrAppv',\n",
              " 'MIS_Status',\n",
              " 'NewExist',\n",
              " 'RealEstate',\n",
              " 'RevLineCr',\n",
              " 'Term',\n",
              " 'daysterm'}"
            ]
          },
          "metadata": {},
          "execution_count": 22
        }
      ]
    },
    {
      "cell_type": "code",
      "metadata": {
        "id": "DgNoSGBg75rC"
      },
      "source": [
        "df = df.drop(corr_features, axis=1)"
      ],
      "execution_count": 23,
      "outputs": []
    },
    {
      "cell_type": "code",
      "metadata": {
        "colab": {
          "base_uri": "https://localhost:8080/",
          "height": 659
        },
        "id": "l5kEZQi_798W",
        "outputId": "193a5dc5-5158-472e-979d-5ec11dfe409d"
      },
      "source": [
        "plt.figure(figsize=(13,10))\n",
        "corr = df.corr()\n",
        "sns.heatmap(corr, annot=True, cmap=plt.cm.Blues)\n",
        "plt.show()"
      ],
      "execution_count": 24,
      "outputs": [
        {
          "output_type": "display_data",
          "data": {
            "image/png": "[encoded data removed]",
            "text/plain": [
              "<Figure size 936x720 with 2 Axes>"
            ]
          },
          "metadata": {
            "needs_background": "light"
          }
        }
      ]
    },
    {
      "cell_type": "markdown",
      "metadata": {
        "id": "sSUhf82yD8G6"
      },
      "source": [
        "Finding 6 best features using Univariate Selection"
      ]
    },
    {
      "cell_type": "code",
      "metadata": {
        "id": "awJSJgD38TZD"
      },
      "source": [
        "X,y = df.loc[:,df.columns != 'Default'], df.loc[:,'Default']"
      ],
      "execution_count": 25,
      "outputs": []
    },
    {
      "cell_type": "code",
      "metadata": {
        "colab": {
          "base_uri": "https://localhost:8080/"
        },
        "id": "dz9x_nyG8ZuB",
        "outputId": "ed0c8999-3b99-4bdb-e79b-9ba869499041"
      },
      "source": [
        "#apply SelectKBest class to extract top 10 best features\n",
        "bestfeatures = SelectKBest(score_func=chi2, k=10)\n",
        "fit = bestfeatures.fit(X,y)\n",
        "dfscores = pd.DataFrame(fit.scores_)\n",
        "dfcolumns = pd.DataFrame(X.columns)\n",
        "\n",
        "#concat two dataframes for better visualization \n",
        "featureScores = pd.concat([dfcolumns,dfscores],axis=1)\n",
        "featureScores.columns = ['Specs','Score']  #naming the dataframe columns\n",
        "print(featureScores.nlargest(10,'Score'))  #print 10 best features"
      ],
      "execution_count": 26,
      "outputs": [
        {
          "output_type": "stream",
          "name": "stdout",
          "text": [
            "            Specs         Score\n",
            "7        SBA_Appv  8.635022e+07\n",
            "6    ChgOffPrinGr  8.627104e+07\n",
            "11             xx  8.196460e+04\n",
            "1           NoEmp  2.942854e+03\n",
            "2       CreateJob  6.135137e+02\n",
            "3     RetainedJob  3.070797e+02\n",
            "10      Recession  3.235524e+01\n",
            "9         Portion  1.471144e+01\n",
            "4   FranchiseCode  1.258125e+01\n",
            "5          LowDoc  6.043331e+00\n"
          ]
        }
      ]
    },
    {
      "cell_type": "code",
      "metadata": {
        "colab": {
          "base_uri": "https://localhost:8080/",
          "height": 204
        },
        "id": "Vw5LD-N48dT7",
        "outputId": "b531a990-03a3-4142-cdb5-bd94efa8427a"
      },
      "source": [
        "new_df = df[['SBA_Appv', 'ChgOffPrinGr', 'xx', 'CreateJob', 'LowDoc', 'Recession', 'Default']]\n",
        "new_df.head()"
      ],
      "execution_count": 27,
      "outputs": [
        {
          "output_type": "execute_result",
          "data": {
            "text/html": [
              "<div>\n",
              "<style scoped>\n",
              "    .dataframe tbody tr th:only-of-type {\n",
              "        vertical-align: middle;\n",
              "    }\n",
              "\n",
              "    .dataframe tbody tr th {\n",
              "        vertical-align: top;\n",
              "    }\n",
              "\n",
              "    .dataframe thead th {\n",
              "        text-align: right;\n",
              "    }\n",
              "</style>\n",
              "<table border=\"1\" class=\"dataframe\">\n",
              "  <thead>\n",
              "    <tr style=\"text-align: right;\">\n",
              "      <th></th>\n",
              "      <th>SBA_Appv</th>\n",
              "      <th>ChgOffPrinGr</th>\n",
              "      <th>xx</th>\n",
              "      <th>CreateJob</th>\n",
              "      <th>LowDoc</th>\n",
              "      <th>Recession</th>\n",
              "      <th>Default</th>\n",
              "    </tr>\n",
              "  </thead>\n",
              "  <tbody>\n",
              "    <tr>\n",
              "      <th>0</th>\n",
              "      <td>15000</td>\n",
              "      <td>0</td>\n",
              "      <td>16175.0</td>\n",
              "      <td>0</td>\n",
              "      <td>0</td>\n",
              "      <td>0</td>\n",
              "      <td>0</td>\n",
              "    </tr>\n",
              "    <tr>\n",
              "      <th>1</th>\n",
              "      <td>15000</td>\n",
              "      <td>0</td>\n",
              "      <td>17658.0</td>\n",
              "      <td>0</td>\n",
              "      <td>0</td>\n",
              "      <td>1</td>\n",
              "      <td>0</td>\n",
              "    </tr>\n",
              "    <tr>\n",
              "      <th>2</th>\n",
              "      <td>15000</td>\n",
              "      <td>0</td>\n",
              "      <td>16298.0</td>\n",
              "      <td>0</td>\n",
              "      <td>0</td>\n",
              "      <td>0</td>\n",
              "      <td>0</td>\n",
              "    </tr>\n",
              "    <tr>\n",
              "      <th>3</th>\n",
              "      <td>25000</td>\n",
              "      <td>0</td>\n",
              "      <td>16816.0</td>\n",
              "      <td>0</td>\n",
              "      <td>0</td>\n",
              "      <td>0</td>\n",
              "      <td>0</td>\n",
              "    </tr>\n",
              "    <tr>\n",
              "      <th>4</th>\n",
              "      <td>343000</td>\n",
              "      <td>0</td>\n",
              "      <td>24103.0</td>\n",
              "      <td>3</td>\n",
              "      <td>0</td>\n",
              "      <td>0</td>\n",
              "      <td>0</td>\n",
              "    </tr>\n",
              "  </tbody>\n",
              "</table>\n",
              "</div>"
            ],
            "text/plain": [
              "   SBA_Appv  ChgOffPrinGr       xx  CreateJob  LowDoc  Recession  Default\n",
              "0     15000             0  16175.0          0       0          0        0\n",
              "1     15000             0  17658.0          0       0          1        0\n",
              "2     15000             0  16298.0          0       0          0        0\n",
              "3     25000             0  16816.0          0       0          0        0\n",
              "4    343000             0  24103.0          3       0          0        0"
            ]
          },
          "metadata": {},
          "execution_count": 27
        }
      ]
    },
    {
      "cell_type": "code",
      "metadata": {
        "colab": {
          "base_uri": "https://localhost:8080/",
          "height": 297
        },
        "id": "rWyAlqUqMu5c",
        "outputId": "0ec9566c-5be6-4f47-d01e-2f5a20dd94bc"
      },
      "source": [
        "new_df.describe()"
      ],
      "execution_count": 28,
      "outputs": [
        {
          "output_type": "execute_result",
          "data": {
            "text/html": [
              "<div>\n",
              "<style scoped>\n",
              "    .dataframe tbody tr th:only-of-type {\n",
              "        vertical-align: middle;\n",
              "    }\n",
              "\n",
              "    .dataframe tbody tr th {\n",
              "        vertical-align: top;\n",
              "    }\n",
              "\n",
              "    .dataframe thead th {\n",
              "        text-align: right;\n",
              "    }\n",
              "</style>\n",
              "<table border=\"1\" class=\"dataframe\">\n",
              "  <thead>\n",
              "    <tr style=\"text-align: right;\">\n",
              "      <th></th>\n",
              "      <th>SBA_Appv</th>\n",
              "      <th>ChgOffPrinGr</th>\n",
              "      <th>xx</th>\n",
              "      <th>CreateJob</th>\n",
              "      <th>LowDoc</th>\n",
              "      <th>Recession</th>\n",
              "      <th>Default</th>\n",
              "    </tr>\n",
              "  </thead>\n",
              "  <tbody>\n",
              "    <tr>\n",
              "      <th>count</th>\n",
              "      <td>2.102000e+03</td>\n",
              "      <td>2.102000e+03</td>\n",
              "      <td>2102.000000</td>\n",
              "      <td>2102.000000</td>\n",
              "      <td>2102.000000</td>\n",
              "      <td>2102.000000</td>\n",
              "      <td>2102.000000</td>\n",
              "    </tr>\n",
              "    <tr>\n",
              "      <th>mean</th>\n",
              "      <td>1.891759e+05</td>\n",
              "      <td>2.002908e+04</td>\n",
              "      <td>20075.744529</td>\n",
              "      <td>2.549952</td>\n",
              "      <td>0.019505</td>\n",
              "      <td>0.068506</td>\n",
              "      <td>0.326356</td>\n",
              "    </tr>\n",
              "    <tr>\n",
              "      <th>std</th>\n",
              "      <td>2.989268e+05</td>\n",
              "      <td>7.543229e+04</td>\n",
              "      <td>2852.634406</td>\n",
              "      <td>8.010175</td>\n",
              "      <td>0.138325</td>\n",
              "      <td>0.252673</td>\n",
              "      <td>0.468991</td>\n",
              "    </tr>\n",
              "    <tr>\n",
              "      <th>min</th>\n",
              "      <td>2.250000e+03</td>\n",
              "      <td>0.000000e+00</td>\n",
              "      <td>11524.000000</td>\n",
              "      <td>0.000000</td>\n",
              "      <td>0.000000</td>\n",
              "      <td>0.000000</td>\n",
              "      <td>0.000000</td>\n",
              "    </tr>\n",
              "    <tr>\n",
              "      <th>25%</th>\n",
              "      <td>1.500000e+04</td>\n",
              "      <td>0.000000e+00</td>\n",
              "      <td>18319.500000</td>\n",
              "      <td>0.000000</td>\n",
              "      <td>0.000000</td>\n",
              "      <td>0.000000</td>\n",
              "      <td>0.000000</td>\n",
              "    </tr>\n",
              "    <tr>\n",
              "      <th>50%</th>\n",
              "      <td>4.168000e+04</td>\n",
              "      <td>0.000000e+00</td>\n",
              "      <td>19270.000000</td>\n",
              "      <td>0.000000</td>\n",
              "      <td>0.000000</td>\n",
              "      <td>0.000000</td>\n",
              "      <td>0.000000</td>\n",
              "    </tr>\n",
              "    <tr>\n",
              "      <th>75%</th>\n",
              "      <td>2.397562e+05</td>\n",
              "      <td>1.507350e+04</td>\n",
              "      <td>22326.000000</td>\n",
              "      <td>2.000000</td>\n",
              "      <td>0.000000</td>\n",
              "      <td>0.000000</td>\n",
              "      <td>1.000000</td>\n",
              "    </tr>\n",
              "    <tr>\n",
              "      <th>max</th>\n",
              "      <td>2.115000e+06</td>\n",
              "      <td>1.509550e+06</td>\n",
              "      <td>27598.000000</td>\n",
              "      <td>130.000000</td>\n",
              "      <td>1.000000</td>\n",
              "      <td>1.000000</td>\n",
              "      <td>1.000000</td>\n",
              "    </tr>\n",
              "  </tbody>\n",
              "</table>\n",
              "</div>"
            ],
            "text/plain": [
              "           SBA_Appv  ChgOffPrinGr  ...    Recession      Default\n",
              "count  2.102000e+03  2.102000e+03  ...  2102.000000  2102.000000\n",
              "mean   1.891759e+05  2.002908e+04  ...     0.068506     0.326356\n",
              "std    2.989268e+05  7.543229e+04  ...     0.252673     0.468991\n",
              "min    2.250000e+03  0.000000e+00  ...     0.000000     0.000000\n",
              "25%    1.500000e+04  0.000000e+00  ...     0.000000     0.000000\n",
              "50%    4.168000e+04  0.000000e+00  ...     0.000000     0.000000\n",
              "75%    2.397562e+05  1.507350e+04  ...     0.000000     1.000000\n",
              "max    2.115000e+06  1.509550e+06  ...     1.000000     1.000000\n",
              "\n",
              "[8 rows x 7 columns]"
            ]
          },
          "metadata": {},
          "execution_count": 28
        }
      ]
    },
    {
      "cell_type": "markdown",
      "metadata": {
        "id": "6HPwf9Jl9W0C"
      },
      "source": [
        "Processing"
      ]
    },
    {
      "cell_type": "code",
      "metadata": {
        "id": "wj_3NLZ_9WWG"
      },
      "source": [
        "X,y = new_df.loc[:, new_df.columns != 'Default'], new_df.loc[:,'Default']"
      ],
      "execution_count": 29,
      "outputs": []
    },
    {
      "cell_type": "code",
      "metadata": {
        "colab": {
          "base_uri": "https://localhost:8080/",
          "height": 204
        },
        "id": "aKtKIyRy9Z3B",
        "outputId": "eef2ad6c-acd1-4dce-8e9b-0229de7ca71c"
      },
      "source": [
        "# Normalisasi data\n",
        "from sklearn.preprocessing import MinMaxScaler\n",
        "\n",
        "scaler = MinMaxScaler()\n",
        "x_scaled = pd.DataFrame(scaler.fit_transform(X), columns = X.columns)\n",
        "x_scaled.head()"
      ],
      "execution_count": 30,
      "outputs": [
        {
          "output_type": "execute_result",
          "data": {
            "text/html": [
              "<div>\n",
              "<style scoped>\n",
              "    .dataframe tbody tr th:only-of-type {\n",
              "        vertical-align: middle;\n",
              "    }\n",
              "\n",
              "    .dataframe tbody tr th {\n",
              "        vertical-align: top;\n",
              "    }\n",
              "\n",
              "    .dataframe thead th {\n",
              "        text-align: right;\n",
              "    }\n",
              "</style>\n",
              "<table border=\"1\" class=\"dataframe\">\n",
              "  <thead>\n",
              "    <tr style=\"text-align: right;\">\n",
              "      <th></th>\n",
              "      <th>SBA_Appv</th>\n",
              "      <th>ChgOffPrinGr</th>\n",
              "      <th>xx</th>\n",
              "      <th>CreateJob</th>\n",
              "      <th>LowDoc</th>\n",
              "      <th>Recession</th>\n",
              "    </tr>\n",
              "  </thead>\n",
              "  <tbody>\n",
              "    <tr>\n",
              "      <th>0</th>\n",
              "      <td>0.006035</td>\n",
              "      <td>0.0</td>\n",
              "      <td>0.289349</td>\n",
              "      <td>0.000000</td>\n",
              "      <td>0.0</td>\n",
              "      <td>0.0</td>\n",
              "    </tr>\n",
              "    <tr>\n",
              "      <th>1</th>\n",
              "      <td>0.006035</td>\n",
              "      <td>0.0</td>\n",
              "      <td>0.381610</td>\n",
              "      <td>0.000000</td>\n",
              "      <td>0.0</td>\n",
              "      <td>1.0</td>\n",
              "    </tr>\n",
              "    <tr>\n",
              "      <th>2</th>\n",
              "      <td>0.006035</td>\n",
              "      <td>0.0</td>\n",
              "      <td>0.297001</td>\n",
              "      <td>0.000000</td>\n",
              "      <td>0.0</td>\n",
              "      <td>0.0</td>\n",
              "    </tr>\n",
              "    <tr>\n",
              "      <th>3</th>\n",
              "      <td>0.010768</td>\n",
              "      <td>0.0</td>\n",
              "      <td>0.329227</td>\n",
              "      <td>0.000000</td>\n",
              "      <td>0.0</td>\n",
              "      <td>0.0</td>\n",
              "    </tr>\n",
              "    <tr>\n",
              "      <th>4</th>\n",
              "      <td>0.161283</td>\n",
              "      <td>0.0</td>\n",
              "      <td>0.782568</td>\n",
              "      <td>0.023077</td>\n",
              "      <td>0.0</td>\n",
              "      <td>0.0</td>\n",
              "    </tr>\n",
              "  </tbody>\n",
              "</table>\n",
              "</div>"
            ],
            "text/plain": [
              "   SBA_Appv  ChgOffPrinGr        xx  CreateJob  LowDoc  Recession\n",
              "0  0.006035           0.0  0.289349   0.000000     0.0        0.0\n",
              "1  0.006035           0.0  0.381610   0.000000     0.0        1.0\n",
              "2  0.006035           0.0  0.297001   0.000000     0.0        0.0\n",
              "3  0.010768           0.0  0.329227   0.000000     0.0        0.0\n",
              "4  0.161283           0.0  0.782568   0.023077     0.0        0.0"
            ]
          },
          "metadata": {},
          "execution_count": 30
        }
      ]
    },
    {
      "cell_type": "markdown",
      "metadata": {
        "id": "1rbrDUJ2ENdu"
      },
      "source": [
        "# Model"
      ]
    },
    {
      "cell_type": "markdown",
      "metadata": {
        "id": "iIY74inaEVV1"
      },
      "source": [
        "##Naive Bayes"
      ]
    },
    {
      "cell_type": "code",
      "metadata": {
        "id": "TFCMwAwc9bHw"
      },
      "source": [
        "from sklearn.naive_bayes import GaussianNB\n",
        "from sklearn.model_selection import KFold"
      ],
      "execution_count": 31,
      "outputs": []
    },
    {
      "cell_type": "code",
      "metadata": {
        "id": "8T6ng09C9qcP"
      },
      "source": [
        "k = 5\n",
        "kf = KFold(n_splits=k, random_state=None)"
      ],
      "execution_count": 32,
      "outputs": []
    },
    {
      "cell_type": "code",
      "metadata": {
        "id": "acdxkGv5xa0a",
        "colab": {
          "base_uri": "https://localhost:8080/"
        },
        "outputId": "04f105e0-2df2-4359-e57b-a119b1441145"
      },
      "source": [
        "for train_index, test_index in kf.split(x_scaled):\n",
        "  x_train, x_test = x_scaled.iloc[train_index, :], x_scaled.iloc[test_index, :]\n",
        "  y_train, y_test = y[train_index], y[test_index]\n",
        "\n",
        "GNB = GaussianNB()\n",
        "GNB.fit(x_train, y_train)"
      ],
      "execution_count": 33,
      "outputs": [
        {
          "output_type": "execute_result",
          "data": {
            "text/plain": [
              "GaussianNB(priors=None, var_smoothing=1e-09)"
            ]
          },
          "metadata": {},
          "execution_count": 33
        }
      ]
    },
    {
      "cell_type": "code",
      "metadata": {
        "colab": {
          "base_uri": "https://localhost:8080/"
        },
        "id": "rkeZQdMaNApo",
        "outputId": "0bdb1d24-91d3-4e40-a613-1e59a403b201"
      },
      "source": [
        "# Lakukan training dengan dataset train\n",
        "pred_values_GNB = GNB.predict(x_test)\n",
        "pred_values_GNB"
      ],
      "execution_count": 34,
      "outputs": [
        {
          "output_type": "execute_result",
          "data": {
            "text/plain": [
              "array([0, 1, 1, 1, 0, 1, 0, 0, 0, 0, 0, 0, 0, 0, 1, 0, 0, 0, 0, 0, 0, 0,\n",
              "       0, 0, 0, 1, 0, 0, 0, 0, 0, 0, 0, 0, 0, 1, 1, 0, 0, 0, 1, 0, 0, 0,\n",
              "       1, 0, 1, 1, 0, 0, 1, 1, 0, 0, 0, 0, 0, 0, 0, 0, 0, 0, 0, 1, 0, 1,\n",
              "       1, 0, 0, 0, 0, 1, 0, 1, 0, 0, 0, 1, 0, 0, 0, 0, 1, 0, 0, 0, 0, 1,\n",
              "       0, 0, 0, 0, 0, 0, 0, 0, 1, 0, 0, 1, 0, 0, 0, 0, 0, 0, 0, 1, 0, 1,\n",
              "       0, 1, 0, 0, 0, 1, 1, 0, 0, 0, 0, 0, 0, 0, 0, 0, 0, 0, 0, 0, 0, 0,\n",
              "       0, 0, 0, 0, 1, 0, 1, 0, 0, 0, 0, 0, 0, 0, 0, 0, 0, 0, 0, 0, 0, 0,\n",
              "       0, 0, 0, 0, 0, 0, 0, 1, 0, 0, 0, 1, 0, 0, 1, 0, 0, 0, 0, 0, 0, 0,\n",
              "       0, 0, 0, 0, 0, 0, 0, 0, 0, 0, 0, 0, 0, 0, 0, 0, 0, 0, 0, 0, 0, 1,\n",
              "       0, 0, 0, 0, 0, 0, 0, 0, 0, 0, 0, 1, 0, 1, 0, 0, 0, 0, 0, 0, 0, 1,\n",
              "       0, 0, 0, 1, 0, 0, 0, 0, 0, 0, 0, 0, 1, 1, 0, 0, 0, 0, 0, 0, 0, 0,\n",
              "       0, 1, 0, 1, 0, 0, 0, 0, 0, 0, 0, 0, 0, 0, 0, 0, 0, 0, 1, 0, 0, 0,\n",
              "       0, 0, 0, 0, 0, 0, 0, 0, 1, 0, 0, 1, 0, 0, 0, 0, 0, 0, 0, 1, 0, 0,\n",
              "       0, 0, 0, 1, 0, 0, 1, 0, 0, 0, 0, 1, 0, 0, 0, 0, 0, 0, 0, 0, 0, 0,\n",
              "       0, 0, 1, 1, 0, 1, 0, 1, 1, 0, 0, 1, 0, 0, 1, 0, 1, 0, 0, 0, 0, 1,\n",
              "       0, 0, 1, 0, 1, 0, 0, 0, 0, 0, 0, 1, 1, 0, 0, 0, 0, 0, 0, 1, 0, 0,\n",
              "       0, 0, 0, 0, 1, 0, 0, 0, 0, 0, 1, 0, 0, 0, 0, 0, 0, 1, 0, 0, 0, 0,\n",
              "       0, 0, 1, 1, 0, 0, 0, 0, 1, 1, 0, 0, 0, 0, 0, 1, 1, 1, 0, 0, 0, 0,\n",
              "       0, 1, 1, 0, 0, 0, 1, 0, 0, 0, 0, 0, 1, 1, 1, 0, 0, 0, 0, 0, 0, 0,\n",
              "       0, 0])"
            ]
          },
          "metadata": {},
          "execution_count": 34
        }
      ]
    },
    {
      "cell_type": "code",
      "metadata": {
        "id": "O6Y0onvo9wX4",
        "colab": {
          "base_uri": "https://localhost:8080/"
        },
        "outputId": "ba3137eb-9224-4ee1-f544-8f77ed041121"
      },
      "source": [
        "accuracy_GNB = GNB.score(x_test, y_test)\n",
        "accuracy_GNB"
      ],
      "execution_count": 35,
      "outputs": [
        {
          "output_type": "execute_result",
          "data": {
            "text/plain": [
              "0.9833333333333333"
            ]
          },
          "metadata": {},
          "execution_count": 35
        }
      ]
    },
    {
      "cell_type": "code",
      "metadata": {
        "id": "wj_KwFXQyFmO",
        "colab": {
          "base_uri": "https://localhost:8080/"
        },
        "outputId": "59acf2f1-919e-41a2-88d3-d5c4eb0d8426"
      },
      "source": [
        "from sklearn.metrics import confusion_matrix\n",
        "cf_matrix = confusion_matrix(y_test, pred_values_GNB)\n",
        "cf_matrix"
      ],
      "execution_count": 36,
      "outputs": [
        {
          "output_type": "execute_result",
          "data": {
            "text/plain": [
              "array([[339,   6],\n",
              "       [  1,  74]])"
            ]
          },
          "metadata": {},
          "execution_count": 36
        }
      ]
    },
    {
      "cell_type": "code",
      "metadata": {
        "id": "DsKYOS4ayUqt",
        "colab": {
          "base_uri": "https://localhost:8080/",
          "height": 282
        },
        "outputId": "be4ad2bb-7b83-4077-b099-7977caaceb88"
      },
      "source": [
        "sns.heatmap(cf_matrix, annot=True)"
      ],
      "execution_count": 37,
      "outputs": [
        {
          "output_type": "execute_result",
          "data": {
            "text/plain": [
              "<matplotlib.axes._subplots.AxesSubplot at 0x7f76dd1af410>"
            ]
          },
          "metadata": {},
          "execution_count": 37
        },
        {
          "output_type": "display_data",
          "data": {
            "image/png": "[encoded data removed]",
            "text/plain": [
              "<Figure size 432x288 with 2 Axes>"
            ]
          },
          "metadata": {
            "needs_background": "light"
          }
        }
      ]
    },
    {
      "cell_type": "code",
      "metadata": {
        "colab": {
          "base_uri": "https://localhost:8080/"
        },
        "id": "k4m482pB3XUh",
        "outputId": "a048e43b-defe-4ad8-8609-5da580a077d2"
      },
      "source": [
        "from sklearn.metrics import f1_score\n",
        "print('F1-Score: {}'.format(f1_score(y_test, pred_values_GNB)))"
      ],
      "execution_count": 38,
      "outputs": [
        {
          "output_type": "stream",
          "name": "stdout",
          "text": [
            "F1-Score: 0.9548387096774195\n"
          ]
        }
      ]
    },
    {
      "cell_type": "code",
      "metadata": {
        "colab": {
          "base_uri": "https://localhost:8080/"
        },
        "id": "tsKMLCQMNIIU",
        "outputId": "6118f852-a792-4cad-847a-7320b32b452f"
      },
      "source": [
        "#dummy data 1\n",
        "GNB.predict([[2.3, 1.5, 22326, 2, 0, 0]])"
      ],
      "execution_count": 39,
      "outputs": [
        {
          "output_type": "execute_result",
          "data": {
            "text/plain": [
              "array([0])"
            ]
          },
          "metadata": {},
          "execution_count": 39
        }
      ]
    },
    {
      "cell_type": "code",
      "metadata": {
        "colab": {
          "base_uri": "https://localhost:8080/"
        },
        "id": "wfHSd2U5NKnc",
        "outputId": "3435e086-26c5-4596-c4b1-a835da495494"
      },
      "source": [
        "#dummy data 2\n",
        "GNB.predict([[2.112e+04, 1.14320e+05, 21212, 90, 1, 0]])"
      ],
      "execution_count": 40,
      "outputs": [
        {
          "output_type": "execute_result",
          "data": {
            "text/plain": [
              "array([1])"
            ]
          },
          "metadata": {},
          "execution_count": 40
        }
      ]
    },
    {
      "cell_type": "markdown",
      "metadata": {
        "id": "et0kX2hjEYA8"
      },
      "source": [
        "##KNN"
      ]
    },
    {
      "cell_type": "code",
      "metadata": {
        "id": "rZsd0jDIEZN1"
      },
      "source": [
        "from sklearn.neighbors import KNeighborsClassifier\n",
        "# Buat model menggunakan KNeighborsClassifier dengan K = 4\n",
        "knn = KNeighborsClassifier(n_neighbors = 4)"
      ],
      "execution_count": 41,
      "outputs": []
    },
    {
      "cell_type": "code",
      "metadata": {
        "id": "Jvyt9EpNEs5a",
        "colab": {
          "base_uri": "https://localhost:8080/"
        },
        "outputId": "19c32f23-7376-405a-e27d-55abfa245515"
      },
      "source": [
        "# Lakukan training dengan dataset train\n",
        "knn.fit(x_train, y_train)"
      ],
      "execution_count": 42,
      "outputs": [
        {
          "output_type": "execute_result",
          "data": {
            "text/plain": [
              "KNeighborsClassifier(algorithm='auto', leaf_size=30, metric='minkowski',\n",
              "                     metric_params=None, n_jobs=None, n_neighbors=4, p=2,\n",
              "                     weights='uniform')"
            ]
          },
          "metadata": {},
          "execution_count": 42
        }
      ]
    },
    {
      "cell_type": "code",
      "metadata": {
        "id": "uFGXd968ExRp",
        "colab": {
          "base_uri": "https://localhost:8080/"
        },
        "outputId": "5d1dd81c-4d04-4656-f767-160618e6576d"
      },
      "source": [
        "# Lakukan prediksi menggunakan x_test lalu print class hasil prediksi\n",
        "prediction_KNN = knn.predict(x_test)\n",
        "print('prediction : {}'.format(prediction_KNN))"
      ],
      "execution_count": 43,
      "outputs": [
        {
          "output_type": "stream",
          "name": "stdout",
          "text": [
            "prediction : [0 0 1 1 0 1 0 0 0 0 0 0 0 0 0 0 0 0 0 0 0 0 0 0 0 1 0 0 0 0 0 0 0 0 0 0 1\n",
            " 0 0 0 1 0 0 0 0 0 1 1 0 0 1 1 0 0 0 0 0 0 0 0 0 0 0 1 0 0 0 0 0 0 0 1 0 1\n",
            " 0 0 0 0 0 0 0 0 1 0 0 0 0 1 0 0 0 0 0 0 0 0 1 0 0 0 0 0 0 0 0 0 0 1 0 1 0\n",
            " 1 0 0 0 1 1 0 0 0 0 0 0 0 0 0 0 0 0 0 0 0 0 0 0 0 1 0 1 0 0 0 0 0 0 0 0 0\n",
            " 0 0 0 0 0 1 0 0 0 0 0 0 0 1 0 0 0 0 0 0 1 0 0 0 0 0 0 0 0 0 0 0 0 0 0 0 0\n",
            " 0 0 0 0 0 0 0 0 0 0 0 0 0 0 0 0 0 0 0 0 0 0 0 0 0 0 0 0 0 0 0 0 0 0 0 0 0\n",
            " 0 1 0 0 0 0 0 0 0 0 1 1 0 0 0 0 0 0 0 0 0 1 0 0 0 0 0 0 0 0 0 0 0 0 0 0 0\n",
            " 0 1 0 0 0 0 0 0 0 0 0 0 0 1 0 0 1 0 0 0 0 0 0 0 1 0 0 0 0 0 0 0 0 1 0 0 0\n",
            " 0 1 0 0 0 0 0 0 0 0 0 0 0 0 1 1 0 1 0 1 1 0 0 1 0 0 1 0 1 0 0 0 0 1 0 0 1\n",
            " 0 1 0 0 0 0 0 0 1 1 0 0 0 0 0 0 1 0 0 0 0 0 0 1 0 0 0 0 0 1 0 0 0 0 0 0 0\n",
            " 0 0 0 0 0 0 1 1 0 0 0 0 1 1 0 0 0 0 0 1 0 1 0 0 0 0 0 1 1 0 0 0 1 0 0 0 0\n",
            " 0 1 1 0 0 0 0 0 0 0 0 0 0]\n"
          ]
        }
      ]
    },
    {
      "cell_type": "code",
      "metadata": {
        "id": "D57wwDAtEz6L",
        "colab": {
          "base_uri": "https://localhost:8080/"
        },
        "outputId": "24252c04-2caa-418e-c72b-54b102505acb"
      },
      "source": [
        "# Print akurasi dari data testing menggunakan score\n",
        "from sklearn.metrics import confusion_matrix, accuracy_score\n",
        "\n",
        "print(\"Accuracy Score: \", knn.score(x_test, y_test))"
      ],
      "execution_count": 44,
      "outputs": [
        {
          "output_type": "stream",
          "name": "stdout",
          "text": [
            "Accuracy Score:  0.9619047619047619\n"
          ]
        }
      ]
    },
    {
      "cell_type": "code",
      "metadata": {
        "id": "GtWNoot5E3Sd",
        "colab": {
          "base_uri": "https://localhost:8080/",
          "height": 530
        },
        "outputId": "3abdf20f-ecc4-4a91-bbd7-a9d1100e6c36"
      },
      "source": [
        "# Model complexity\n",
        "neig = np.arange(1,25)\n",
        "train_accuracy = []\n",
        "test_accuracy = []\n",
        "# Loop over different values of k\n",
        "for i, k in enumerate(neig):\n",
        "  # k fom 1 to 25\n",
        "  knn = KNeighborsClassifier(n_neighbors=k)\n",
        "  #fit with knn\n",
        "  knn.fit(x_train, y_train)\n",
        "  #train accuracy\n",
        "  train_accuracy.append(knn.score(x_train, y_train))\n",
        "  #test accuracy\n",
        "  test_accuracy.append(knn.score(x_test,y_test))\n",
        "# Plot\n",
        "plt.figure(figsize=[13,8])\n",
        "plt.plot(neig,test_accuracy, label= \"Testing Accuracy\")\n",
        "plt.plot(neig,train_accuracy, label= \"Training Accuracy\")\n",
        "plt.legend()\n",
        "plt.title('-value vs accuracy')\n",
        "plt.xlabel('number of neighbors')\n",
        "plt.ylabel('accuracy')\n",
        "plt.xticks(neig)\n",
        "plt.savefig('graph.png')\n",
        "plt.show()\n",
        "print('Best accuracy is {} with k = {}'.format(np.max(test_accuracy),1+test_accuracy.index(np.max(test_accuracy))))"
      ],
      "execution_count": 45,
      "outputs": [
        {
          "output_type": "display_data",
          "data": {
            "image/png": "[encoded data removed]",
            "text/plain": [
              "<Figure size 936x576 with 1 Axes>"
            ]
          },
          "metadata": {
            "needs_background": "light"
          }
        },
        {
          "output_type": "stream",
          "name": "stdout",
          "text": [
            "Best accuracy is 0.969047619047619 with k = 6\n"
          ]
        }
      ]
    },
    {
      "cell_type": "code",
      "metadata": {
        "id": "KjIPQKo-NRwP"
      },
      "source": [
        "knn = KNeighborsClassifier(n_neighbors = 6)"
      ],
      "execution_count": 46,
      "outputs": []
    },
    {
      "cell_type": "code",
      "metadata": {
        "colab": {
          "base_uri": "https://localhost:8080/"
        },
        "id": "wsvOhazKNSfM",
        "outputId": "6eae4667-940e-43c9-a6cb-15ba2b9a87cd"
      },
      "source": [
        "# Lakukan training dengan dataset train\n",
        "knn.fit(x_train, y_train)"
      ],
      "execution_count": 47,
      "outputs": [
        {
          "output_type": "execute_result",
          "data": {
            "text/plain": [
              "KNeighborsClassifier(algorithm='auto', leaf_size=30, metric='minkowski',\n",
              "                     metric_params=None, n_jobs=None, n_neighbors=6, p=2,\n",
              "                     weights='uniform')"
            ]
          },
          "metadata": {},
          "execution_count": 47
        }
      ]
    },
    {
      "cell_type": "code",
      "metadata": {
        "colab": {
          "base_uri": "https://localhost:8080/"
        },
        "id": "pJGxaEAVNVjD",
        "outputId": "bb28d231-1295-4779-c9e9-4f7dab6d5198"
      },
      "source": [
        "# Print akurasi dari data testing menggunakan score\n",
        "print(\"Accuracy Score: \", knn.score(x_test, y_test))"
      ],
      "execution_count": 48,
      "outputs": [
        {
          "output_type": "stream",
          "name": "stdout",
          "text": [
            "Accuracy Score:  0.969047619047619\n"
          ]
        }
      ]
    },
    {
      "cell_type": "code",
      "metadata": {
        "colab": {
          "base_uri": "https://localhost:8080/"
        },
        "id": "c62qd21MNWjc",
        "outputId": "7d44ef13-686a-4182-923a-0b2e18bdf550"
      },
      "source": [
        "# Lakukan prediksi menggunakan x_test lalu print class hasil prediksi\n",
        "prediction = knn.predict(x_test)\n",
        "print('prediction : {}'.format(prediction))"
      ],
      "execution_count": 49,
      "outputs": [
        {
          "output_type": "stream",
          "name": "stdout",
          "text": [
            "prediction : [0 0 1 1 0 1 0 0 0 0 0 0 0 0 0 0 0 0 0 0 0 0 0 0 0 1 0 0 0 0 0 0 0 0 0 0 1\n",
            " 0 0 0 1 0 0 0 0 0 1 1 0 0 1 1 0 0 0 0 0 0 0 0 0 0 0 1 0 0 0 0 0 0 0 1 0 1\n",
            " 0 0 0 0 0 0 0 0 1 0 0 0 0 1 0 0 0 0 0 0 0 0 1 0 0 0 0 0 0 0 0 0 0 1 0 1 0\n",
            " 1 0 0 0 1 1 0 0 0 0 0 0 0 0 0 0 0 0 0 0 0 0 0 0 0 1 0 1 0 0 0 0 0 0 0 0 0\n",
            " 0 0 0 0 0 0 0 0 0 0 0 0 0 1 0 0 0 0 0 0 1 0 0 0 0 0 0 0 0 0 0 0 0 0 0 0 0\n",
            " 0 0 0 0 0 0 0 0 0 0 0 0 0 0 0 0 0 0 0 0 0 0 0 0 0 0 0 0 0 0 0 0 0 0 0 0 0\n",
            " 0 1 0 0 0 0 0 0 0 0 1 1 0 0 0 0 0 0 0 0 0 1 0 0 0 0 0 0 0 0 0 0 0 0 0 0 0\n",
            " 0 1 0 0 0 0 0 0 0 0 0 0 0 1 1 0 1 0 0 0 0 0 0 0 1 0 0 0 0 0 0 0 0 1 0 0 0\n",
            " 0 1 0 0 0 0 0 0 0 0 0 0 0 0 1 1 0 1 0 1 1 0 0 1 0 0 1 0 1 0 0 0 0 1 0 0 1\n",
            " 0 1 0 0 0 0 0 0 1 1 0 0 0 0 0 0 1 0 0 0 0 0 0 1 0 0 0 0 0 1 0 0 0 0 0 0 0\n",
            " 0 0 0 0 0 0 1 1 0 0 0 0 1 1 0 0 0 0 0 1 0 1 0 0 0 0 0 1 1 0 0 0 1 0 0 0 0\n",
            " 0 1 1 1 0 0 0 0 0 0 0 0 0]\n"
          ]
        }
      ]
    },
    {
      "cell_type": "code",
      "metadata": {
        "colab": {
          "base_uri": "https://localhost:8080/",
          "height": 530
        },
        "id": "BgYeWSSiNbo-",
        "outputId": "ded51353-5e3d-45e4-a3e3-42e7a27e6bc3"
      },
      "source": [
        "import numpy as np\n",
        "# Model complexity\n",
        "neig = np.arange(1,25)\n",
        "train_accuracy = []\n",
        "test_accuracy = []\n",
        "# Loop over different values of k\n",
        "for i, k in enumerate(neig):\n",
        "  # k fom 1 to 25\n",
        "  knn = KNeighborsClassifier(n_neighbors=k)\n",
        "  #fit with knn\n",
        "  knn.fit(x_train, y_train)\n",
        "  #train accuracy\n",
        "  train_accuracy.append(knn.score(x_train, y_train))\n",
        "  #test accuracy\n",
        "  test_accuracy.append(knn.score(x_test,y_test))\n",
        "# Plot\n",
        "plt.figure(figsize=[13,8])\n",
        "plt.plot(neig,test_accuracy, label= \"Testing Accuracy\")\n",
        "plt.plot(neig,train_accuracy, label= \"Training Accuracy\")\n",
        "plt.legend()\n",
        "plt.title('-value vs accuracy')\n",
        "plt.xlabel('number of neighbors')\n",
        "plt.ylabel('accuracy')\n",
        "plt.xticks(neig)\n",
        "plt.savefig('graph.png')\n",
        "plt.show()\n",
        "print('Best accuracy is {} with k = {}'.format(np.max(test_accuracy),1+test_accuracy.index(np.max(test_accuracy))))"
      ],
      "execution_count": 50,
      "outputs": [
        {
          "output_type": "display_data",
          "data": {
            "image/png": "[encoded data removed]",
            "text/plain": [
              "<Figure size 936x576 with 1 Axes>"
            ]
          },
          "metadata": {
            "needs_background": "light"
          }
        },
        {
          "output_type": "stream",
          "name": "stdout",
          "text": [
            "Best accuracy is 0.969047619047619 with k = 6\n"
          ]
        }
      ]
    },
    {
      "cell_type": "code",
      "metadata": {
        "id": "DNtUtc1Wwlua",
        "colab": {
          "base_uri": "https://localhost:8080/"
        },
        "outputId": "c045381e-9454-4d86-e1ee-86f838beffb9"
      },
      "source": [
        "cm = confusion_matrix(y_test, prediction_KNN)\n",
        "print(\"Confusion Matrix:\\n\", cm)"
      ],
      "execution_count": 51,
      "outputs": [
        {
          "output_type": "stream",
          "name": "stdout",
          "text": [
            "Confusion Matrix:\n",
            " [[343   2]\n",
            " [ 14  61]]\n"
          ]
        }
      ]
    },
    {
      "cell_type": "code",
      "metadata": {
        "id": "JZhgaYoWFUpu",
        "colab": {
          "base_uri": "https://localhost:8080/",
          "height": 282
        },
        "outputId": "504bf0b8-76c8-4b7d-8976-5c005d50620f"
      },
      "source": [
        "# show heatmap\n",
        "sns.heatmap(cm, annot=True)"
      ],
      "execution_count": 52,
      "outputs": [
        {
          "output_type": "execute_result",
          "data": {
            "text/plain": [
              "<matplotlib.axes._subplots.AxesSubplot at 0x7f76dd129b90>"
            ]
          },
          "metadata": {},
          "execution_count": 52
        },
        {
          "output_type": "display_data",
          "data": {
            "image/png": "[encoded data removed]",
            "text/plain": [
              "<Figure size 432x288 with 2 Axes>"
            ]
          },
          "metadata": {
            "needs_background": "light"
          }
        }
      ]
    },
    {
      "cell_type": "code",
      "metadata": {
        "colab": {
          "base_uri": "https://localhost:8080/"
        },
        "id": "3bryavQVNfjJ",
        "outputId": "dee85304-3d96-4b8e-ab4b-fec0121257f0"
      },
      "source": [
        "from sklearn.metrics import f1_score\n",
        "print('F1-Score : {}'.format(f1_score(y_test, prediction)))"
      ],
      "execution_count": 53,
      "outputs": [
        {
          "output_type": "stream",
          "name": "stdout",
          "text": [
            "F1-Score : 0.9064748201438849\n"
          ]
        }
      ]
    },
    {
      "cell_type": "code",
      "metadata": {
        "colab": {
          "base_uri": "https://localhost:8080/"
        },
        "id": "8vNiH4lLNg9R",
        "outputId": "c6703b27-cc2f-4ffd-ce1e-9011cd9b29f6"
      },
      "source": [
        "#dummy data 1\n",
        "knn.predict([[4.164, 1.5, 21116, 30, 0, 0]])"
      ],
      "execution_count": 54,
      "outputs": [
        {
          "output_type": "execute_result",
          "data": {
            "text/plain": [
              "array([0])"
            ]
          },
          "metadata": {},
          "execution_count": 54
        }
      ]
    },
    {
      "cell_type": "code",
      "metadata": {
        "colab": {
          "base_uri": "https://localhost:8080/"
        },
        "id": "LV0PNlZeNiTj",
        "outputId": "38dc9702-1406-4073-be3a-b3dc07096d54"
      },
      "source": [
        "#dummy data 2\n",
        "knn.predict([[2.120e+05, 1.209550e+06, 19250, 105, 1, 1]])"
      ],
      "execution_count": 55,
      "outputs": [
        {
          "output_type": "execute_result",
          "data": {
            "text/plain": [
              "array([1])"
            ]
          },
          "metadata": {},
          "execution_count": 55
        }
      ]
    },
    {
      "cell_type": "markdown",
      "metadata": {
        "id": "6XQRcO7CEfsc"
      },
      "source": [
        "##SVM"
      ]
    },
    {
      "cell_type": "code",
      "metadata": {
        "id": "T2oN4WH6OSBm"
      },
      "source": [
        "from sklearn.svm import SVC"
      ],
      "execution_count": 56,
      "outputs": []
    },
    {
      "cell_type": "markdown",
      "metadata": {
        "id": "ssf2diEfOKgB"
      },
      "source": [
        "### Linear"
      ]
    },
    {
      "cell_type": "code",
      "metadata": {
        "id": "JYfNSSzwEg4j",
        "colab": {
          "base_uri": "https://localhost:8080/"
        },
        "outputId": "02e10489-0a05-4e5a-dab2-a95019f6aa65"
      },
      "source": [
        "svc_linear = SVC(kernel='linear')\n",
        "svc_linear.fit(x_train, y_train)"
      ],
      "execution_count": 57,
      "outputs": [
        {
          "output_type": "execute_result",
          "data": {
            "text/plain": [
              "SVC(C=1.0, break_ties=False, cache_size=200, class_weight=None, coef0=0.0,\n",
              "    decision_function_shape='ovr', degree=3, gamma='scale', kernel='linear',\n",
              "    max_iter=-1, probability=False, random_state=None, shrinking=True,\n",
              "    tol=0.001, verbose=False)"
            ]
          },
          "metadata": {},
          "execution_count": 57
        }
      ]
    },
    {
      "cell_type": "code",
      "metadata": {
        "id": "Lmtpnh4nFpAm"
      },
      "source": [
        "yHat = svc_linear.predict(x_test)"
      ],
      "execution_count": 58,
      "outputs": []
    },
    {
      "cell_type": "code",
      "metadata": {
        "id": "OBRUl000Fq4S",
        "colab": {
          "base_uri": "https://localhost:8080/"
        },
        "outputId": "406f9571-72b6-4d9f-d50d-1f9a938abd75"
      },
      "source": [
        "from sklearn import metrics\n",
        "print(\"Training set accuracy = \", metrics.accuracy_score(y_train, svc_linear.predict(x_train)))\n",
        "print(\"Test set accuracy = \", metrics.accuracy_score(y_test, yHat))"
      ],
      "execution_count": 59,
      "outputs": [
        {
          "output_type": "stream",
          "name": "stdout",
          "text": [
            "Training set accuracy =  0.6890606420927468\n",
            "Test set accuracy =  0.8857142857142857\n"
          ]
        }
      ]
    },
    {
      "cell_type": "code",
      "metadata": {
        "id": "HZ6THfjKdtD3",
        "colab": {
          "base_uri": "https://localhost:8080/"
        },
        "outputId": "8cadc3f5-04a2-4bee-ab8c-6d31704502ec"
      },
      "source": [
        "from sklearn.metrics import confusion_matrix\n",
        "# Matriks confusion array using sklearn\n",
        "cf_matrix = confusion_matrix(y_test, yHat)\n",
        "cf_matrix"
      ],
      "execution_count": 60,
      "outputs": [
        {
          "output_type": "execute_result",
          "data": {
            "text/plain": [
              "array([[340,   5],\n",
              "       [ 43,  32]])"
            ]
          },
          "metadata": {},
          "execution_count": 60
        }
      ]
    },
    {
      "cell_type": "code",
      "metadata": {
        "colab": {
          "base_uri": "https://localhost:8080/"
        },
        "id": "dkFTO-Q4N20e",
        "outputId": "7d06ad9b-74a0-4567-9b3f-300dd51c093a"
      },
      "source": [
        "from sklearn.metrics import f1_score\n",
        "print('F1-Score : {}'.format(f1_score(y_test, yHat)))"
      ],
      "execution_count": 61,
      "outputs": [
        {
          "output_type": "stream",
          "name": "stdout",
          "text": [
            "F1-Score : 0.5714285714285715\n"
          ]
        }
      ]
    },
    {
      "cell_type": "code",
      "metadata": {
        "colab": {
          "base_uri": "https://localhost:8080/"
        },
        "id": "Dx1fKPBsN6Jp",
        "outputId": "49805d43-fd64-47ee-c337-aabe8dfd1ef6"
      },
      "source": [
        "#dummy data 1\n",
        "svc_linear.predict([[4.4212, 1.9, 16026, 20, 1, 0]])"
      ],
      "execution_count": 62,
      "outputs": [
        {
          "output_type": "execute_result",
          "data": {
            "text/plain": [
              "array([0])"
            ]
          },
          "metadata": {},
          "execution_count": 62
        }
      ]
    },
    {
      "cell_type": "code",
      "metadata": {
        "colab": {
          "base_uri": "https://localhost:8080/"
        },
        "id": "q4-AGTd0N604",
        "outputId": "fd7d7746-a3cd-4623-fb57-4b03f691545f"
      },
      "source": [
        "#dummy data 2\n",
        "svc_linear.predict([[2.362e+04, 1.19550e+06, 20898, 120, 1, 1]])"
      ],
      "execution_count": 63,
      "outputs": [
        {
          "output_type": "execute_result",
          "data": {
            "text/plain": [
              "array([1])"
            ]
          },
          "metadata": {},
          "execution_count": 63
        }
      ]
    },
    {
      "cell_type": "markdown",
      "metadata": {
        "id": "CjEPt_cnOe2g"
      },
      "source": [
        "### RBF"
      ]
    },
    {
      "cell_type": "code",
      "metadata": {
        "colab": {
          "base_uri": "https://localhost:8080/"
        },
        "id": "Pls7OspzOe2h",
        "outputId": "64420252-508b-4fef-d935-5cdfae470e22"
      },
      "source": [
        "svc_rbf = SVC(kernel='rbf')\n",
        "svc_rbf.fit(x_train, y_train)"
      ],
      "execution_count": 64,
      "outputs": [
        {
          "output_type": "execute_result",
          "data": {
            "text/plain": [
              "SVC(C=1.0, break_ties=False, cache_size=200, class_weight=None, coef0=0.0,\n",
              "    decision_function_shape='ovr', degree=3, gamma='scale', kernel='rbf',\n",
              "    max_iter=-1, probability=False, random_state=None, shrinking=True,\n",
              "    tol=0.001, verbose=False)"
            ]
          },
          "metadata": {},
          "execution_count": 64
        }
      ]
    },
    {
      "cell_type": "code",
      "metadata": {
        "id": "Xy_4wqdxOe2k"
      },
      "source": [
        "yHat = svc_rbf.predict(x_test)"
      ],
      "execution_count": 65,
      "outputs": []
    },
    {
      "cell_type": "code",
      "metadata": {
        "colab": {
          "base_uri": "https://localhost:8080/"
        },
        "id": "v6XRsYJAOe2l",
        "outputId": "543c37a6-7e87-49cb-c6a9-061117997352"
      },
      "source": [
        "from sklearn import metrics\n",
        "print(\"Training set accuracy = \", metrics.accuracy_score(y_train, svc_rbf.predict(x_train)))\n",
        "print(\"Test set accuracy = \", metrics.accuracy_score(y_test, yHat))"
      ],
      "execution_count": 66,
      "outputs": [
        {
          "output_type": "stream",
          "name": "stdout",
          "text": [
            "Training set accuracy =  0.8781212841854935\n",
            "Test set accuracy =  0.95\n"
          ]
        }
      ]
    },
    {
      "cell_type": "code",
      "metadata": {
        "colab": {
          "base_uri": "https://localhost:8080/"
        },
        "id": "IMSh8tumOe2m",
        "outputId": "8429d7b6-a727-4501-ff06-fd5e8a5bbd55"
      },
      "source": [
        "from sklearn.metrics import confusion_matrix\n",
        "# Matriks confusion array using sklearn\n",
        "cf_matrix = confusion_matrix(y_test, yHat)\n",
        "cf_matrix"
      ],
      "execution_count": 67,
      "outputs": [
        {
          "output_type": "execute_result",
          "data": {
            "text/plain": [
              "array([[340,   5],\n",
              "       [ 16,  59]])"
            ]
          },
          "metadata": {},
          "execution_count": 67
        }
      ]
    },
    {
      "cell_type": "code",
      "metadata": {
        "colab": {
          "base_uri": "https://localhost:8080/"
        },
        "id": "4kUHtwQ0Oe2o",
        "outputId": "82bea35b-4193-489e-c704-0a673331b3ae"
      },
      "source": [
        "from sklearn.metrics import f1_score\n",
        "print('F1-Score : {}'.format(f1_score(y_test, yHat)))"
      ],
      "execution_count": 68,
      "outputs": [
        {
          "output_type": "stream",
          "name": "stdout",
          "text": [
            "F1-Score : 0.8489208633093526\n"
          ]
        }
      ]
    },
    {
      "cell_type": "code",
      "metadata": {
        "colab": {
          "base_uri": "https://localhost:8080/"
        },
        "id": "6ToukQRCOe2p",
        "outputId": "d6dd6a65-bd09-42f5-f906-8705be06c949"
      },
      "source": [
        "#dummy data 1\n",
        "svc_rbf.predict([[4.4212, 1.9, 16026, 20, 1, 0]])"
      ],
      "execution_count": 69,
      "outputs": [
        {
          "output_type": "execute_result",
          "data": {
            "text/plain": [
              "array([0])"
            ]
          },
          "metadata": {},
          "execution_count": 69
        }
      ]
    },
    {
      "cell_type": "code",
      "metadata": {
        "colab": {
          "base_uri": "https://localhost:8080/"
        },
        "id": "EqS3KVHbOe2q",
        "outputId": "1a8a10ba-ad23-4836-c83a-0e7626048a00"
      },
      "source": [
        "#dummy data 2\n",
        "svc_rbf.predict([[2.362e+04, 1.19550e+06, 20898, 120, 1, 1]])"
      ],
      "execution_count": 70,
      "outputs": [
        {
          "output_type": "execute_result",
          "data": {
            "text/plain": [
              "array([0])"
            ]
          },
          "metadata": {},
          "execution_count": 70
        }
      ]
    },
    {
      "cell_type": "markdown",
      "metadata": {
        "id": "5mQAb8cOOgIi"
      },
      "source": [
        "### Polynomial"
      ]
    },
    {
      "cell_type": "code",
      "metadata": {
        "colab": {
          "base_uri": "https://localhost:8080/"
        },
        "id": "6Nkovy-POgIj",
        "outputId": "afe70864-3313-4999-84b5-b992125d0e87"
      },
      "source": [
        "svc_poly = SVC(kernel='poly')\n",
        "svc_poly.fit(x_train, y_train)"
      ],
      "execution_count": 71,
      "outputs": [
        {
          "output_type": "execute_result",
          "data": {
            "text/plain": [
              "SVC(C=1.0, break_ties=False, cache_size=200, class_weight=None, coef0=0.0,\n",
              "    decision_function_shape='ovr', degree=3, gamma='scale', kernel='poly',\n",
              "    max_iter=-1, probability=False, random_state=None, shrinking=True,\n",
              "    tol=0.001, verbose=False)"
            ]
          },
          "metadata": {},
          "execution_count": 71
        }
      ]
    },
    {
      "cell_type": "code",
      "metadata": {
        "id": "q6WixLgWOgIl"
      },
      "source": [
        "yHat = svc_poly.predict(x_test)"
      ],
      "execution_count": 72,
      "outputs": []
    },
    {
      "cell_type": "code",
      "metadata": {
        "colab": {
          "base_uri": "https://localhost:8080/"
        },
        "id": "iW5BA64OOgIm",
        "outputId": "11708d74-6121-457d-f90c-c2a14be91d44"
      },
      "source": [
        "from sklearn import metrics\n",
        "print(\"Training set accuracy = \", metrics.accuracy_score(y_train, svc_poly.predict(x_train)))\n",
        "print(\"Test set accuracy = \", metrics.accuracy_score(y_test, yHat))"
      ],
      "execution_count": 73,
      "outputs": [
        {
          "output_type": "stream",
          "name": "stdout",
          "text": [
            "Training set accuracy =  0.7675386444708681\n",
            "Test set accuracy =  0.9095238095238095\n"
          ]
        }
      ]
    },
    {
      "cell_type": "code",
      "metadata": {
        "colab": {
          "base_uri": "https://localhost:8080/"
        },
        "id": "7gOh9N_jOgIn",
        "outputId": "fd5234ab-e362-4f84-fcdf-e07fbb8f4188"
      },
      "source": [
        "from sklearn.metrics import confusion_matrix\n",
        "# Matriks confusion array using sklearn\n",
        "cf_matrix = confusion_matrix(y_test, yHat)\n",
        "cf_matrix"
      ],
      "execution_count": 74,
      "outputs": [
        {
          "output_type": "execute_result",
          "data": {
            "text/plain": [
              "array([[345,   0],\n",
              "       [ 38,  37]])"
            ]
          },
          "metadata": {},
          "execution_count": 74
        }
      ]
    },
    {
      "cell_type": "code",
      "metadata": {
        "colab": {
          "base_uri": "https://localhost:8080/"
        },
        "id": "WBzwpF7eOgIo",
        "outputId": "7e4d7371-3202-4a4f-aed8-e4dccc21ad93"
      },
      "source": [
        "from sklearn.metrics import f1_score\n",
        "print('F1-Score : {}'.format(f1_score(y_test, yHat)))"
      ],
      "execution_count": 75,
      "outputs": [
        {
          "output_type": "stream",
          "name": "stdout",
          "text": [
            "F1-Score : 0.6607142857142857\n"
          ]
        }
      ]
    },
    {
      "cell_type": "code",
      "metadata": {
        "colab": {
          "base_uri": "https://localhost:8080/"
        },
        "id": "OuKJpzydOgIp",
        "outputId": "61ca87bb-a5fa-44da-c79b-770e829dc475"
      },
      "source": [
        "#dummy data 1\n",
        "svc_poly.predict([[4.4212, 1.9, 16026, 20, 1, 0]])"
      ],
      "execution_count": 76,
      "outputs": [
        {
          "output_type": "execute_result",
          "data": {
            "text/plain": [
              "array([0])"
            ]
          },
          "metadata": {},
          "execution_count": 76
        }
      ]
    },
    {
      "cell_type": "code",
      "metadata": {
        "colab": {
          "base_uri": "https://localhost:8080/"
        },
        "id": "8o8PZoi-OgIq",
        "outputId": "0fac119f-6f44-432b-d116-1e2cc4e8a8be"
      },
      "source": [
        "#dummy data 2\n",
        "svc_poly.predict([[2.362e+04, 1.19550e+06, 20898, 120, 1, 1]])"
      ],
      "execution_count": 77,
      "outputs": [
        {
          "output_type": "execute_result",
          "data": {
            "text/plain": [
              "array([1])"
            ]
          },
          "metadata": {},
          "execution_count": 77
        }
      ]
    },
    {
      "cell_type": "markdown",
      "metadata": {
        "id": "A4-EwrgLPOPt"
      },
      "source": [
        "# Evaluation"
      ]
    },
    {
      "cell_type": "markdown",
      "metadata": {
        "id": "PVn5NpjcPQHS"
      },
      "source": [
        "Berdasarkan dari 3 model diatas bisa kita simpulkan berdasarkan perbandingan hasil akurasinya yaitu,\n",
        "1. KNN         : 96.9%\n",
        "2. Naive Bayes : 98.3%\n",
        "3. SVM         : 95%\n",
        "\n",
        "dan untuk F1-Score setiap masing-masing model yaitu,\n",
        "1. KNN         : 90.6%\n",
        "2. Naive Bayes : 95.4%\n",
        "3. SVM         : 84.8 %\n",
        "\n",
        "Dari 3 model tersebut kami dapat menyimpulkan bahwa 6 dari 10 variable teratas yang kami pilih untuk dianalisa, apakah variable tersebut memiliki pengaruh terhadap persejutuan bisnis kecil tesebut akan mendapatkan pinjaman atau tidak dari bank. Hasil evaluasi setiap model yang kami gunakan menunjukan F1-Score diatas memiliki hasil yang baik.\n",
        "\n",
        "FEEDBACK:\n",
        "\n",
        "Kekurangan: \n",
        "1. Penjelasan variable yang tidak begitu jelas.\n",
        "2. Penulisan data yang tidak tepat dan juga ada yang kosong.\n",
        "3. Waktu pengerjaan yang cukup singkat.\n",
        "5. Pengerjaan yang tidak beratur.\n",
        "\n",
        "Penyelesaian :\n",
        "1. Browsing di internet terkait dataset yang serupa.\n",
        "2. Melakukan pengecekan berulang kali secara lebih detail.\n",
        "3. Pembagian dan penjadwalan tugas kepada kelompok.\n",
        "4. Double check dan revisi beberapa kali.\n",
        "\n",
        "Untuk kedepannya kami berharap memiliki waktu yang lebih lama setidaknya 14 hari untuk pengerjaan. Kami yang awalnya masih belum mengerti betul python dan pada ahkirnya kami bisa menyelesaikan proyek ini merupakan sebuah pencapaian yang jujur kami bilang 'MANTAB'"
      ]
    }
  ]
}